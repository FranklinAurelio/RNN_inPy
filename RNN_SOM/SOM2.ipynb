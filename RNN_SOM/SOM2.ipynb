{
  "nbformat": 4,
  "nbformat_minor": 0,
  "metadata": {
    "kernelspec": {
      "display_name": "Python 3",
      "language": "python",
      "name": "python3"
    },
    "language_info": {
      "codemirror_mode": {
        "name": "ipython",
        "version": 3
      },
      "file_extension": ".py",
      "mimetype": "text/x-python",
      "name": "python",
      "nbconvert_exporter": "python",
      "pygments_lexer": "ipython3",
      "version": "3.5.2"
    },
    "colab": {
      "name": "SOM2.ipynb",
      "provenance": []
    }
  },
  "cells": [
    {
      "cell_type": "code",
      "metadata": {
        "id": "tNsEfxQJU3jc"
      },
      "source": [
        "from math import log, exp\n",
        "import itertools\n",
        "import math\n",
        "import random\n",
        "import scipy\n",
        "\n",
        "class GSOM_Node:\n",
        "    R = random.Random()\n",
        "    \n",
        "    def __init__(self, dim, x, y):\n",
        "        # Crie um vetor de peso da dimensão fornecida:\n",
        "        # Inicialize o vetor de peso com valores aleatórios entre 0 e 1.\n",
        "        self.weights=scipy.array([self.R.random() for _ in range(dim)])\n",
        "\n",
        "        self.error = 0.0\n",
        "\n",
        "        self.it = 0\n",
        "        self.last_it = 0\n",
        "\n",
        "        self.data = None\n",
        "        self.last_changed = 0\n",
        "\n",
        "        self.right = None\n",
        "        self.left  = None\n",
        "        self.up    = None\n",
        "        self.down  = None\n",
        "\n",
        "        self.x, self.y = x, y\n",
        "\n",
        "\n",
        "    def adjust_weights(self, target, learn_rate):\n",
        "        \"\"\" Adjust the weights of this node. \"\"\"\n",
        "        for w in range(0, len(target)):\n",
        "            self.weights[w] += learn_rate * (target[w] - self.weights[w])\n",
        "\n",
        "\n",
        "    def is_boundary(self):\n",
        "        \"\"\" Check if this node is at the boundary of the map. \"\"\"\n",
        "        if not self.right: return True\n",
        "        if not self.left:  return True\n",
        "        if not self.up:    return True\n",
        "        if not self.down:  return True\n",
        "        return False\n",
        "\n"
      ],
      "execution_count": 1,
      "outputs": []
    },
    {
      "cell_type": "code",
      "metadata": {
        "id": "4YCo-W-gU3jg"
      },
      "source": [
        ""
      ],
      "execution_count": null,
      "outputs": []
    },
    {
      "cell_type": "code",
      "metadata": {
        "colab": {
          "base_uri": "https://localhost:8080/"
        },
        "id": "qp9A1xIHU3jg",
        "outputId": "eaecf69c-42c1-40d0-9738-d9174ac0a035"
      },
      "source": [
        "import matplotlib.pyplot as plt\n",
        "import csv\n",
        "from mpl_toolkits.mplot3d import Axes3D\n",
        "from sklearn import datasets\n",
        "from sklearn.decomposition import PCA\n",
        "\n",
        "# import iris \n",
        "iris = datasets.load_iris()\n",
        "dataset = iris\n",
        "spread_factor = 1.5\n",
        "# Atribuir os dados\n",
        "data = []\n",
        "for fn in dataset:\n",
        "    t = dataset\n",
        "    arr = scipy.array(t.data)\n",
        "    data.append([fn,arr])\n",
        "\n",
        "# Determine a dimensão dos dados.\n",
        "dim = len(data[0][1])\n",
        "\n",
        "# Calcule o limite de crescimento:\n",
        "_GT = -dim * math.log(spread_factor, 2)\n",
        "\n",
        "# Crie os 4 nós iniciais.\n",
        "nodes = []\n",
        "n00 = GSOM_Node(dim, 10, 10)\n",
        "n01 = GSOM_Node(dim, 10, 11)\n",
        "n10 = GSOM_Node(dim, 11, 10)\n",
        "n11 = GSOM_Node(dim, 11, 11)\n",
        "nodes.extend([n00,n01,n10,n11])\n",
        "\n",
        "# Criar topologia inicial\n",
        "n00.right = n10\n",
        "n00.up    = n01\n",
        "n01.right = n11\n",
        "n01.down  = n00\n",
        "n10.up    = n11\n",
        "n10.left  = n00\n",
        "n11.left  = n01\n",
        "n11.down  = n10\n",
        "\n",
        "# Definir propriedades\n",
        "it = 0       \n",
        "max_it = len(data)\n",
        "num_it = 100     \n",
        "init_lr = 0.5   \n",
        "alpha = 0.2\n",
        "output = file = open(\"gsom.csv\",\"w\")\n",
        "\n",
        "print(len(n00.weights))"
      ],
      "execution_count": 2,
      "outputs": [
        {
          "output_type": "stream",
          "name": "stdout",
          "text": [
            "150\n"
          ]
        },
        {
          "output_type": "stream",
          "name": "stderr",
          "text": [
            "/usr/local/lib/python3.7/dist-packages/ipykernel_launcher.py:15: DeprecationWarning: scipy.array is deprecated and will be removed in SciPy 2.0.0, use numpy.array instead\n",
            "  from ipykernel import kernelapp as app\n",
            "/usr/local/lib/python3.7/dist-packages/ipykernel_launcher.py:13: DeprecationWarning: scipy.array is deprecated and will be removed in SciPy 2.0.0, use numpy.array instead\n",
            "  del sys.path[0]\n"
          ]
        }
      ]
    },
    {
      "cell_type": "code",
      "metadata": {
        "id": "hfc3dG4FU3ji"
      },
      "source": [
        ""
      ],
      "execution_count": null,
      "outputs": []
    },
    {
      "cell_type": "code",
      "metadata": {
        "id": "xZvPUOjsU3ji"
      },
      "source": [
        "def _distance(v1, v2):\n",
        "    dist = 0.0\n",
        "    #print(v1)\n",
        "    #print(v2)\n",
        "    for v, w in zip(v1, v2):\n",
        "        dist += pow(v - w,2)\n",
        "    return dist\n",
        "\n",
        "\n",
        "def _find_bmu(vec):\n",
        "    dist=float(\"inf\")\n",
        "    winner = False\n",
        "    for node in nodes:\n",
        "        d = _distance(vec, node.weights)\n",
        "        #print(d.all())            \n",
        "        if(d < dist):\n",
        "            dist = d\n",
        "            winner = node\n",
        "\n",
        "    return winner\n",
        "\n",
        "\n",
        "def _find_similar_boundary(node):\n",
        "    dist = float(\"inf\")\n",
        "    winner = False\n",
        "    for boundary in nodes:\n",
        "        if not boundary.is_boundary(): continue\n",
        "        if boundary == node: continue\n",
        "\n",
        "        d = _distance(node.weights, boundary.weights)\n",
        "        if d < dist:\n",
        "            dist = d\n",
        "            winner = node\n",
        "\n",
        "    return winner"
      ],
      "execution_count": 3,
      "outputs": []
    },
    {
      "cell_type": "code",
      "metadata": {
        "id": "eX2O1YxiU3jj"
      },
      "source": [
        "def _node_add_error(node, error):\n",
        "\n",
        "    node.error += error\n",
        "\n",
        "    # Considerar o limite\n",
        "    if node.error > _GT:\n",
        "        if not node.is_boundary():\n",
        "            node = _find_similar_boundary(node)\n",
        "            if not node:\n",
        "                print(\"GSOM: Error: No free boundary node found!\")\n",
        "\n",
        "        nodes = _grow(node)\n",
        "        return True, nodes\n",
        "\n",
        "    return False, 0\n",
        "\n",
        "\n",
        "def _grow(node):\n",
        "\n",
        "    nodes = []\n",
        "    if node.left == None:\n",
        "        nn = _insert(node.x - 1, node.y, node)\n",
        "        nodes.append(nn)\n",
        "        print(\"Growing left at: (\" + str(node.x) + \",\" + str(node.y)\\\n",
        "                + \") -> (\" + str(nn.x) + \", \" + str(nn.y) + \")\")\n",
        "\n",
        "    if node.right == None:\n",
        "        nn = _insert(node.x + 1, node.y, node)\n",
        "        nodes.append(nn)\n",
        "        print(\"Growing right at: (\" + str(node.x) + \",\" + str(node.y)\\\n",
        "                + \") -> (\" + str(nn.x) + \", \" + str(nn.y) + \")\")\n",
        "\n",
        "    if node.up == None:\n",
        "        nn = _insert(node.x, node.y + 1, node)\n",
        "        nodes.append(nn)\n",
        "        print(\"Growing up at: (\" + str(node.x) + \",\" + str(node.y) +\\\n",
        "                \") -> (\" + str(nn.x) + \", \" + str(nn.y) + \")\")\n",
        "\n",
        "    if node.down == None:\n",
        "        nn = _insert(node.x, node.y - 1, node)\n",
        "        nodes.append(nn)\n",
        "        print(\"Growing down at: (\" + str(node.x) + \",\" + str(node.y) +\\\n",
        "                \") -> (\" + str(nn.x) + \", \" + str(nn.y) + \")\")\n",
        "    return nodes\n",
        "\n",
        "\n",
        "def _insert(x, y, init_node):\n",
        "    new_node = GSOM_Node(dim, x, y)\n",
        "    nodes.append(new_node)\n",
        "\n",
        "    new_node.it = new_node.last_it = it\n",
        "\n",
        "    for node in nodes:\n",
        "        # Left, Right, Up, Down\n",
        "        if node.x == x - 1 and node.y == y:\n",
        "            new_node.left = node\n",
        "            node.right = new_node\n",
        "        if node.x == x + 1 and node.y == y:\n",
        "            new_node.right = node\n",
        "            node.left = new_node\n",
        "        if node.x == x and node.y == y + 1:\n",
        "            new_node.up = node\n",
        "            node.down = new_node\n",
        "        if node.x == x and node.y == y - 1:\n",
        "            new_node.down = node\n",
        "            node.up = new_node\n",
        "\n",
        "    neigh = new_node.left\n",
        "    if neigh == None: neigh = new_node.right\n",
        "    if neigh == None: neigh = new_node.up\n",
        "    if neigh == None: neigh = new_node.down\n",
        "    if neigh == None: print(\"_insert: No neighbour found!\")\n",
        "\n",
        "    for i in range(0, len(new_node.weights)):\n",
        "        new_node.weights[i] = 2 * init_node.weights[i] - neigh.weights[i]\n",
        "\n",
        "    return new_node\n",
        "\n",
        "\n",
        "def _remove_unused_nodes():\n",
        "    \"\"\" Remove all nodes from the GSOM that have not been used. \"\"\"\n",
        "    to_remove = []\n",
        "\n",
        "    for node in nodes:\n",
        "        iterations_not_won = it - node.last_it\n",
        "        if iterations_not_won < len(nodes) * 4.0 * (1 + it/len(data)) : continue\n",
        "\n",
        "        if node.left:  node.left.right = None\n",
        "        if node.up:    node.up.down    = None\n",
        "        if node.down:  node.down.up    = None\n",
        "        if node.right: node.right.left = None\n",
        "\n",
        "        to_remove.append(node)\n",
        "\n",
        "    for node in to_remove:\n",
        "        print(\"Removing node @ \" + str(node.x) + \", \" + str(node.y) + \\\n",
        "              \" - Current it: \" + str(it) + \" - Last time won: \" +\\\n",
        "              str(node.last_it))\n",
        "        if node.data:\n",
        "            output.write(node.data + \",\" + str(node.x)+\",\"+str(node.y)\\\n",
        "                + \",remove\\n\")\n",
        "    nodes.remove(node)"
      ],
      "execution_count": 10,
      "outputs": []
    },
    {
      "cell_type": "code",
      "metadata": {
        "id": "LfMm-XGOU3jj"
      },
      "source": [
        "## training & viz\n",
        "import numpy as np\n",
        "import matplotlib.pyplot as plt\n",
        "from matplotlib.animation import FuncAnimation\n"
      ],
      "execution_count": 8,
      "outputs": []
    },
    {
      "cell_type": "code",
      "metadata": {
        "colab": {
          "base_uri": "https://localhost:8080/"
        },
        "id": "Z7V6GC50U3jk",
        "outputId": "209347fb-414a-4813-abfa-150975d1719d"
      },
      "source": [
        "data0, data1, data2 = [], [],[]\n",
        "j = -1\n",
        "for i in (dataset['data']):\n",
        "    j +=1\n",
        "    if j < 51:\n",
        "        data0.append(i)\n",
        "    elif j < 101:\n",
        "        data1.append(i)\n",
        "    else:\n",
        "        data2.append(i)\n",
        "\n",
        "l5 = []\n",
        "print(data0[0])\n",
        "for j in data0[0]:\n",
        "    l5.append(j)\n",
        "print(l5)\n",
        "l5 = np.array(l5)\n",
        "l6 = l5.transpose()\n",
        "#print(np.transpose(l6))\n",
        "#l5\n",
        "#[i[0] for i in (dataset['data'])]"
      ],
      "execution_count": 13,
      "outputs": [
        {
          "output_type": "stream",
          "name": "stdout",
          "text": [
            "[5.1 3.5 1.4 0.2]\n",
            "[5.1, 3.5, 1.4, 0.2]\n"
          ]
        }
      ]
    },
    {
      "cell_type": "code",
      "metadata": {
        "colab": {
          "base_uri": "https://localhost:8080/"
        },
        "id": "KThFLK_gU3jk",
        "outputId": "c6702f43-b951-47d9-fc72-0e3b4c2105f4"
      },
      "source": [
        "input = random.choice(data)[1]\n",
        "learn_rate = init_lr * alpha * (1 - 3.8/len(nodes))\n",
        "\n",
        "recalc_nodes = []\n",
        "for _ in range(50):\n",
        "    l0 = [i[0] for i in input]\n",
        "    l1 = [i[1] for i in input]\n",
        "    l2 = [i[2] for i in input]\n",
        "    l3 = [i[3] for i in input]\n",
        "    #print(l0)\n",
        "    l0 = l3[0:50]\n",
        "    BMU = _find_bmu(l0)\n",
        "    BMU.last_it = it\n",
        "\n",
        "    neighbours = []\n",
        "    neighbours.append(BMU)\n",
        "    if BMU.left:  neighbours.append(BMU.left)\n",
        "    if BMU.right: neighbours.append(BMU.right)\n",
        "    if BMU.up:    neighbours.append(BMU.up)\n",
        "    if BMU.down:  neighbours.append(BMU.down)\n",
        "\n",
        "    if BMU not in recalc_nodes: recalc_nodes.append(BMU)\n",
        "    for node in neighbours:\n",
        "        node.adjust_weights(l0, learn_rate)\n",
        "        if node not in recalc_nodes: recalc_nodes.append(node)\n",
        "    err = _distance(BMU.weights, l0)\n",
        "    growing, nodes = _node_add_error(BMU, err)\n",
        "    if growing: recalc_nodes.extend(nodes)\n",
        "    it += 1\n",
        "    used_data = []\n",
        "    for node in nodes:\n",
        "        used_data.append(node.data)\n",
        "    for node in recalc_nodes:\n",
        "        dist = float(\"inf\")\n",
        "        winner = False\n",
        "        winner_fn = False\n",
        "        for fn,point in data:\n",
        "            if fn in used_data: continue\n",
        "\n",
        "            point0 = [i[3] for i in point]\n",
        "            d = _distance(point0[0:50], node.weights)\n",
        "            if(d < dist):\n",
        "                dist = d\n",
        "                winner = point0\n",
        "                winner_fn = fn\n",
        "\n",
        "        if node.data != winner_fn:\n",
        "            node.data = winner_fn\n",
        "            node.last_changed = it\n",
        "        output.write(str(node.data) + \",\" + str(node.x) + \",\" + str(node.y)\\\n",
        "                + \",change\\n\")\n",
        "        used_data.append(winner_fn)\n",
        "    _remove_unused_nodes()"
      ],
      "execution_count": 16,
      "outputs": [
        {
          "output_type": "stream",
          "name": "stderr",
          "text": [
            "/usr/local/lib/python3.7/dist-packages/ipykernel_launcher.py:13: DeprecationWarning: scipy.array is deprecated and will be removed in SciPy 2.0.0, use numpy.array instead\n",
            "  del sys.path[0]\n"
          ]
        },
        {
          "output_type": "stream",
          "name": "stdout",
          "text": [
            "Growing left at: (-28,22) -> (-29, 22)\n",
            "Growing up at: (-28,22) -> (-28, 23)\n",
            "Growing down at: (-28,22) -> (-28, 21)\n",
            "Growing left at: (-29,22) -> (-30, 22)\n",
            "Growing up at: (-29,22) -> (-29, 23)\n",
            "Growing down at: (-29,22) -> (-29, 21)\n",
            "Growing left at: (-30,22) -> (-31, 22)\n",
            "Growing up at: (-30,22) -> (-30, 23)\n",
            "Growing down at: (-30,22) -> (-30, 21)\n",
            "Growing left at: (-31,22) -> (-32, 22)\n",
            "Growing up at: (-31,22) -> (-31, 23)\n",
            "Growing down at: (-31,22) -> (-31, 21)\n",
            "Growing left at: (-32,22) -> (-33, 22)\n",
            "Growing up at: (-32,22) -> (-32, 23)\n",
            "Growing down at: (-32,22) -> (-32, 21)\n",
            "Growing left at: (-33,22) -> (-34, 22)\n",
            "Growing up at: (-33,22) -> (-33, 23)\n",
            "Growing down at: (-33,22) -> (-33, 21)\n",
            "Growing left at: (-34,22) -> (-35, 22)\n",
            "Growing up at: (-34,22) -> (-34, 23)\n",
            "Growing down at: (-34,22) -> (-34, 21)\n",
            "Growing left at: (-35,22) -> (-36, 22)\n",
            "Growing up at: (-35,22) -> (-35, 23)\n",
            "Growing down at: (-35,22) -> (-35, 21)\n",
            "Growing left at: (-36,22) -> (-37, 22)\n",
            "Growing up at: (-36,22) -> (-36, 23)\n",
            "Growing down at: (-36,22) -> (-36, 21)\n",
            "Growing left at: (-37,22) -> (-38, 22)\n",
            "Growing up at: (-37,22) -> (-37, 23)\n",
            "Growing down at: (-37,22) -> (-37, 21)\n",
            "Growing left at: (-38,22) -> (-39, 22)\n",
            "Growing up at: (-38,22) -> (-38, 23)\n",
            "Growing down at: (-38,22) -> (-38, 21)\n",
            "Growing left at: (-39,22) -> (-40, 22)\n",
            "Growing up at: (-39,22) -> (-39, 23)\n",
            "Growing down at: (-39,22) -> (-39, 21)\n",
            "Growing left at: (-40,22) -> (-41, 22)\n",
            "Growing up at: (-40,22) -> (-40, 23)\n",
            "Growing down at: (-40,22) -> (-40, 21)\n",
            "Growing left at: (-41,22) -> (-42, 22)\n",
            "Growing up at: (-41,22) -> (-41, 23)\n",
            "Growing down at: (-41,22) -> (-41, 21)\n",
            "Growing left at: (-42,22) -> (-43, 22)\n",
            "Growing up at: (-42,22) -> (-42, 23)\n",
            "Growing down at: (-42,22) -> (-42, 21)\n",
            "Growing left at: (-43,22) -> (-44, 22)\n",
            "Growing up at: (-43,22) -> (-43, 23)\n",
            "Growing down at: (-43,22) -> (-43, 21)\n",
            "Growing left at: (-44,22) -> (-45, 22)\n",
            "Growing up at: (-44,22) -> (-44, 23)\n",
            "Growing down at: (-44,22) -> (-44, 21)\n",
            "Growing left at: (-45,22) -> (-46, 22)\n",
            "Growing up at: (-45,22) -> (-45, 23)\n",
            "Growing down at: (-45,22) -> (-45, 21)\n",
            "Growing left at: (-46,22) -> (-47, 22)\n",
            "Growing up at: (-46,22) -> (-46, 23)\n",
            "Growing down at: (-46,22) -> (-46, 21)\n",
            "Growing left at: (-47,22) -> (-48, 22)\n",
            "Growing up at: (-47,22) -> (-47, 23)\n",
            "Growing down at: (-47,22) -> (-47, 21)\n",
            "Growing left at: (-48,22) -> (-49, 22)\n",
            "Growing up at: (-48,22) -> (-48, 23)\n",
            "Growing down at: (-48,22) -> (-48, 21)\n",
            "Growing left at: (-49,22) -> (-50, 22)\n",
            "Growing up at: (-49,22) -> (-49, 23)\n",
            "Growing down at: (-49,22) -> (-49, 21)\n",
            "Growing left at: (-50,22) -> (-51, 22)\n",
            "Growing up at: (-50,22) -> (-50, 23)\n",
            "Growing down at: (-50,22) -> (-50, 21)\n",
            "Growing left at: (-51,22) -> (-52, 22)\n",
            "Growing up at: (-51,22) -> (-51, 23)\n",
            "Growing down at: (-51,22) -> (-51, 21)\n",
            "Growing left at: (-52,22) -> (-53, 22)\n",
            "Growing up at: (-52,22) -> (-52, 23)\n",
            "Growing down at: (-52,22) -> (-52, 21)\n",
            "Growing left at: (-53,22) -> (-54, 22)\n",
            "Growing up at: (-53,22) -> (-53, 23)\n",
            "Growing down at: (-53,22) -> (-53, 21)\n",
            "Growing left at: (-54,22) -> (-55, 22)\n",
            "Growing up at: (-54,22) -> (-54, 23)\n",
            "Growing down at: (-54,22) -> (-54, 21)\n",
            "Growing left at: (-55,22) -> (-56, 22)\n",
            "Growing up at: (-55,22) -> (-55, 23)\n",
            "Growing down at: (-55,22) -> (-55, 21)\n",
            "Growing left at: (-56,22) -> (-57, 22)\n",
            "Growing up at: (-56,22) -> (-56, 23)\n",
            "Growing down at: (-56,22) -> (-56, 21)\n",
            "Growing left at: (-57,22) -> (-58, 22)\n",
            "Growing up at: (-57,22) -> (-57, 23)\n",
            "Growing down at: (-57,22) -> (-57, 21)\n",
            "Growing left at: (-58,22) -> (-59, 22)\n",
            "Growing up at: (-58,22) -> (-58, 23)\n",
            "Growing down at: (-58,22) -> (-58, 21)\n",
            "Growing left at: (-59,22) -> (-60, 22)\n",
            "Growing up at: (-59,22) -> (-59, 23)\n",
            "Growing down at: (-59,22) -> (-59, 21)\n",
            "Growing left at: (-60,22) -> (-61, 22)\n",
            "Growing up at: (-60,22) -> (-60, 23)\n",
            "Growing down at: (-60,22) -> (-60, 21)\n",
            "Growing left at: (-61,22) -> (-62, 22)\n",
            "Growing up at: (-61,22) -> (-61, 23)\n",
            "Growing down at: (-61,22) -> (-61, 21)\n",
            "Growing left at: (-62,22) -> (-63, 22)\n",
            "Growing up at: (-62,22) -> (-62, 23)\n",
            "Growing down at: (-62,22) -> (-62, 21)\n",
            "Growing left at: (-63,22) -> (-64, 22)\n",
            "Growing up at: (-63,22) -> (-63, 23)\n",
            "Growing down at: (-63,22) -> (-63, 21)\n",
            "Growing left at: (-64,22) -> (-65, 22)\n",
            "Growing up at: (-64,22) -> (-64, 23)\n",
            "Growing down at: (-64,22) -> (-64, 21)\n",
            "Growing left at: (-65,22) -> (-66, 22)\n",
            "Growing up at: (-65,22) -> (-65, 23)\n",
            "Growing down at: (-65,22) -> (-65, 21)\n",
            "Growing left at: (-66,22) -> (-67, 22)\n",
            "Growing up at: (-66,22) -> (-66, 23)\n",
            "Growing down at: (-66,22) -> (-66, 21)\n",
            "Growing left at: (-67,22) -> (-68, 22)\n",
            "Growing up at: (-67,22) -> (-67, 23)\n",
            "Growing down at: (-67,22) -> (-67, 21)\n",
            "Growing left at: (-68,22) -> (-69, 22)\n",
            "Growing up at: (-68,22) -> (-68, 23)\n",
            "Growing down at: (-68,22) -> (-68, 21)\n",
            "Growing left at: (-69,22) -> (-70, 22)\n",
            "Growing up at: (-69,22) -> (-69, 23)\n",
            "Growing down at: (-69,22) -> (-69, 21)\n",
            "Growing left at: (-70,22) -> (-71, 22)\n",
            "Growing up at: (-70,22) -> (-70, 23)\n",
            "Growing down at: (-70,22) -> (-70, 21)\n",
            "Growing left at: (-71,22) -> (-72, 22)\n",
            "Growing up at: (-71,22) -> (-71, 23)\n",
            "Growing down at: (-71,22) -> (-71, 21)\n",
            "Growing left at: (-72,22) -> (-73, 22)\n",
            "Growing up at: (-72,22) -> (-72, 23)\n",
            "Growing down at: (-72,22) -> (-72, 21)\n",
            "Growing left at: (-73,22) -> (-74, 22)\n",
            "Growing up at: (-73,22) -> (-73, 23)\n",
            "Growing down at: (-73,22) -> (-73, 21)\n",
            "Growing left at: (-74,22) -> (-75, 22)\n",
            "Growing up at: (-74,22) -> (-74, 23)\n",
            "Growing down at: (-74,22) -> (-74, 21)\n",
            "Growing left at: (-75,22) -> (-76, 22)\n",
            "Growing up at: (-75,22) -> (-75, 23)\n",
            "Growing down at: (-75,22) -> (-75, 21)\n",
            "Growing left at: (-76,22) -> (-77, 22)\n",
            "Growing up at: (-76,22) -> (-76, 23)\n",
            "Growing down at: (-76,22) -> (-76, 21)\n",
            "Growing left at: (-77,22) -> (-78, 22)\n",
            "Growing up at: (-77,22) -> (-77, 23)\n",
            "Growing down at: (-77,22) -> (-77, 21)\n"
          ]
        }
      ]
    },
    {
      "cell_type": "code",
      "metadata": {
        "colab": {
          "base_uri": "https://localhost:8080/"
        },
        "id": "vOkB6-DRU3jl",
        "outputId": "62fa57b9-5dc0-4e0a-a7e9-4699f5f3e6f9"
      },
      "source": [
        "import pandas as pd\n",
        "df = pd.read_csv('gsom.csv')\n",
        "print(df.shape)\n",
        "df.columns"
      ],
      "execution_count": 18,
      "outputs": [
        {
          "output_type": "stream",
          "name": "stdout",
          "text": [
            "(7063, 4)\n"
          ]
        },
        {
          "output_type": "execute_result",
          "data": {
            "text/plain": [
              "Index(['data', '10', '10.1', 'change'], dtype='object')"
            ]
          },
          "metadata": {},
          "execution_count": 18
        }
      ]
    },
    {
      "cell_type": "code",
      "metadata": {
        "id": "ctwXV3UnU3jl"
      },
      "source": [
        "x4 = df['10']\n",
        "y4 = df['10.1']\n",
        "%matplotlib inline"
      ],
      "execution_count": 19,
      "outputs": []
    },
    {
      "cell_type": "code",
      "metadata": {
        "colab": {
          "base_uri": "https://localhost:8080/",
          "height": 282
        },
        "id": "u9GIF6RSU3jl",
        "outputId": "6b03034a-270e-4df3-f36f-d202d413a555"
      },
      "source": [
        "irissetosa_x =  x4\n",
        "irissetosa_y = y4 \n",
        "plt.plot(irissetosa_x, irissetosa_y)"
      ],
      "execution_count": 23,
      "outputs": [
        {
          "output_type": "execute_result",
          "data": {
            "text/plain": [
              "[<matplotlib.lines.Line2D at 0x7f8141162610>]"
            ]
          },
          "metadata": {},
          "execution_count": 23
        },
        {
          "output_type": "display_data",
          "data": {
            "image/png": "[encoded data removed]",
            "text/plain": [
              "<Figure size 432x288 with 1 Axes>"
            ]
          },
          "metadata": {
            "needs_background": "light"
          }
        }
      ]
    },
    {
      "cell_type": "code",
      "metadata": {
        "colab": {
          "base_uri": "https://localhost:8080/"
        },
        "id": "YLr9SL2VU3jm",
        "outputId": "9b7e945e-f88c-4263-f46c-906702188ba4"
      },
      "source": [
        "input = random.choice(data)[1]\n",
        "learn_rate = init_lr * alpha * (1 - 3.8/len(nodes))\n",
        "\n",
        "recalc_nodes = []\n",
        "for _ in range(50):\n",
        "    # best matching unit\n",
        "    l0 = [i[0] for i in input]\n",
        "    l1 = [i[1] for i in input]\n",
        "    l2 = [i[2] for i in input]\n",
        "    l3 = [i[3] for i in input]\n",
        "    #print(l0)\n",
        "    l0 = l3[50:100]\n",
        "    BMU = _find_bmu(l0)\n",
        "    BMU.last_it = it\n",
        "\n",
        "    neighbours = []\n",
        "    neighbours.append(BMU)\n",
        "    if BMU.left:  neighbours.append(BMU.left)\n",
        "    if BMU.right: neighbours.append(BMU.right)\n",
        "    if BMU.up:    neighbours.append(BMU.up)\n",
        "    if BMU.down:  neighbours.append(BMU.down)\n",
        "\n",
        "    if BMU not in recalc_nodes: recalc_nodes.append(BMU)\n",
        "    for node in neighbours:\n",
        "        node.adjust_weights(l0, learn_rate)\n",
        "        if node not in recalc_nodes: recalc_nodes.append(node)\n",
        "    err = _distance(BMU.weights, l0)\n",
        "    growing, nodes = _node_add_error(BMU, err)\n",
        "    if growing: recalc_nodes.extend(nodes)\n",
        "    it += 1\n",
        "    used_data = []\n",
        "    for node in nodes:\n",
        "        used_data.append(node.data)\n",
        "    for node in recalc_nodes:\n",
        "        dist = float(\"inf\")\n",
        "        winner = False\n",
        "        winner_fn = False\n",
        "        for fn,point in data:\n",
        "            if fn in used_data: continue\n",
        "\n",
        "            point0 = [i[3] for i in point]\n",
        "            d = _distance(point0[50:100], node.weights)\n",
        "            if(d < dist):\n",
        "                dist = d\n",
        "                winner = point0\n",
        "                winner_fn = fn\n",
        "\n",
        "        if node.data != winner_fn:\n",
        "            node.data = winner_fn\n",
        "            node.last_changed = it\n",
        "        output.write(str(node.data) + \",\" + str(node.x) + \",\" + str(node.y)\\\n",
        "                + \",change\\n\")\n",
        "        used_data.append(winner_fn)\n",
        "    _remove_unused_nodes()"
      ],
      "execution_count": 31,
      "outputs": [
        {
          "output_type": "stream",
          "name": "stderr",
          "text": [
            "/usr/local/lib/python3.7/dist-packages/ipykernel_launcher.py:13: DeprecationWarning: scipy.array is deprecated and will be removed in SciPy 2.0.0, use numpy.array instead\n",
            "  del sys.path[0]\n"
          ]
        },
        {
          "output_type": "stream",
          "name": "stdout",
          "text": [
            "Growing left at: (-178,22) -> (-179, 22)\n",
            "Growing up at: (-178,22) -> (-178, 23)\n",
            "Growing down at: (-178,22) -> (-178, 21)\n",
            "Growing left at: (-179,22) -> (-180, 22)\n",
            "Growing up at: (-179,22) -> (-179, 23)\n",
            "Growing down at: (-179,22) -> (-179, 21)\n",
            "Growing left at: (-180,22) -> (-181, 22)\n",
            "Growing up at: (-180,22) -> (-180, 23)\n",
            "Growing down at: (-180,22) -> (-180, 21)\n",
            "Growing left at: (-181,22) -> (-182, 22)\n",
            "Growing up at: (-181,22) -> (-181, 23)\n",
            "Growing down at: (-181,22) -> (-181, 21)\n",
            "Growing left at: (-182,22) -> (-183, 22)\n",
            "Growing up at: (-182,22) -> (-182, 23)\n",
            "Growing down at: (-182,22) -> (-182, 21)\n",
            "Growing left at: (-183,22) -> (-184, 22)\n",
            "Growing up at: (-183,22) -> (-183, 23)\n",
            "Growing down at: (-183,22) -> (-183, 21)\n",
            "Growing left at: (-184,22) -> (-185, 22)\n",
            "Growing up at: (-184,22) -> (-184, 23)\n",
            "Growing down at: (-184,22) -> (-184, 21)\n",
            "Growing left at: (-185,22) -> (-186, 22)\n",
            "Growing up at: (-185,22) -> (-185, 23)\n",
            "Growing down at: (-185,22) -> (-185, 21)\n",
            "Growing left at: (-186,22) -> (-187, 22)\n",
            "Growing up at: (-186,22) -> (-186, 23)\n",
            "Growing down at: (-186,22) -> (-186, 21)\n",
            "Growing left at: (-187,22) -> (-188, 22)\n",
            "Growing up at: (-187,22) -> (-187, 23)\n",
            "Growing down at: (-187,22) -> (-187, 21)\n",
            "Growing left at: (-188,22) -> (-189, 22)\n",
            "Growing up at: (-188,22) -> (-188, 23)\n",
            "Growing down at: (-188,22) -> (-188, 21)\n",
            "Growing left at: (-189,22) -> (-190, 22)\n",
            "Growing up at: (-189,22) -> (-189, 23)\n",
            "Growing down at: (-189,22) -> (-189, 21)\n",
            "Growing left at: (-190,22) -> (-191, 22)\n",
            "Growing up at: (-190,22) -> (-190, 23)\n",
            "Growing down at: (-190,22) -> (-190, 21)\n",
            "Growing left at: (-191,22) -> (-192, 22)\n",
            "Growing up at: (-191,22) -> (-191, 23)\n",
            "Growing down at: (-191,22) -> (-191, 21)\n",
            "Growing left at: (-192,22) -> (-193, 22)\n",
            "Growing up at: (-192,22) -> (-192, 23)\n",
            "Growing down at: (-192,22) -> (-192, 21)\n",
            "Growing left at: (-193,22) -> (-194, 22)\n",
            "Growing up at: (-193,22) -> (-193, 23)\n",
            "Growing down at: (-193,22) -> (-193, 21)\n",
            "Growing left at: (-194,22) -> (-195, 22)\n",
            "Growing up at: (-194,22) -> (-194, 23)\n",
            "Growing down at: (-194,22) -> (-194, 21)\n",
            "Growing left at: (-195,22) -> (-196, 22)\n",
            "Growing up at: (-195,22) -> (-195, 23)\n",
            "Growing down at: (-195,22) -> (-195, 21)\n",
            "Growing left at: (-196,22) -> (-197, 22)\n",
            "Growing up at: (-196,22) -> (-196, 23)\n",
            "Growing down at: (-196,22) -> (-196, 21)\n",
            "Growing left at: (-197,22) -> (-198, 22)\n",
            "Growing up at: (-197,22) -> (-197, 23)\n",
            "Growing down at: (-197,22) -> (-197, 21)\n",
            "Growing left at: (-198,22) -> (-199, 22)\n",
            "Growing up at: (-198,22) -> (-198, 23)\n",
            "Growing down at: (-198,22) -> (-198, 21)\n",
            "Growing left at: (-199,22) -> (-200, 22)\n",
            "Growing up at: (-199,22) -> (-199, 23)\n",
            "Growing down at: (-199,22) -> (-199, 21)\n",
            "Growing left at: (-200,22) -> (-201, 22)\n",
            "Growing up at: (-200,22) -> (-200, 23)\n",
            "Growing down at: (-200,22) -> (-200, 21)\n",
            "Growing left at: (-201,22) -> (-202, 22)\n",
            "Growing up at: (-201,22) -> (-201, 23)\n",
            "Growing down at: (-201,22) -> (-201, 21)\n",
            "Growing left at: (-202,22) -> (-203, 22)\n",
            "Growing up at: (-202,22) -> (-202, 23)\n",
            "Growing down at: (-202,22) -> (-202, 21)\n",
            "Growing left at: (-203,22) -> (-204, 22)\n",
            "Growing up at: (-203,22) -> (-203, 23)\n",
            "Growing down at: (-203,22) -> (-203, 21)\n",
            "Growing left at: (-204,22) -> (-205, 22)\n",
            "Growing up at: (-204,22) -> (-204, 23)\n",
            "Growing down at: (-204,22) -> (-204, 21)\n",
            "Growing left at: (-205,22) -> (-206, 22)\n",
            "Growing up at: (-205,22) -> (-205, 23)\n",
            "Growing down at: (-205,22) -> (-205, 21)\n",
            "Growing left at: (-206,22) -> (-207, 22)\n",
            "Growing up at: (-206,22) -> (-206, 23)\n",
            "Growing down at: (-206,22) -> (-206, 21)\n",
            "Growing left at: (-207,22) -> (-208, 22)\n",
            "Growing up at: (-207,22) -> (-207, 23)\n",
            "Growing down at: (-207,22) -> (-207, 21)\n",
            "Growing left at: (-208,22) -> (-209, 22)\n",
            "Growing up at: (-208,22) -> (-208, 23)\n",
            "Growing down at: (-208,22) -> (-208, 21)\n",
            "Growing left at: (-209,22) -> (-210, 22)\n",
            "Growing up at: (-209,22) -> (-209, 23)\n",
            "Growing down at: (-209,22) -> (-209, 21)\n",
            "Growing left at: (-210,22) -> (-211, 22)\n",
            "Growing up at: (-210,22) -> (-210, 23)\n",
            "Growing down at: (-210,22) -> (-210, 21)\n",
            "Growing left at: (-211,22) -> (-212, 22)\n",
            "Growing up at: (-211,22) -> (-211, 23)\n",
            "Growing down at: (-211,22) -> (-211, 21)\n",
            "Growing left at: (-212,22) -> (-213, 22)\n",
            "Growing up at: (-212,22) -> (-212, 23)\n",
            "Growing down at: (-212,22) -> (-212, 21)\n",
            "Growing left at: (-213,22) -> (-214, 22)\n",
            "Growing up at: (-213,22) -> (-213, 23)\n",
            "Growing down at: (-213,22) -> (-213, 21)\n",
            "Growing left at: (-214,22) -> (-215, 22)\n",
            "Growing up at: (-214,22) -> (-214, 23)\n",
            "Growing down at: (-214,22) -> (-214, 21)\n",
            "Growing left at: (-215,22) -> (-216, 22)\n",
            "Growing up at: (-215,22) -> (-215, 23)\n",
            "Growing down at: (-215,22) -> (-215, 21)\n",
            "Growing left at: (-216,22) -> (-217, 22)\n",
            "Growing up at: (-216,22) -> (-216, 23)\n",
            "Growing down at: (-216,22) -> (-216, 21)\n",
            "Growing left at: (-217,22) -> (-218, 22)\n",
            "Growing up at: (-217,22) -> (-217, 23)\n",
            "Growing down at: (-217,22) -> (-217, 21)\n",
            "Growing left at: (-218,22) -> (-219, 22)\n",
            "Growing up at: (-218,22) -> (-218, 23)\n",
            "Growing down at: (-218,22) -> (-218, 21)\n",
            "Growing left at: (-219,22) -> (-220, 22)\n",
            "Growing up at: (-219,22) -> (-219, 23)\n",
            "Growing down at: (-219,22) -> (-219, 21)\n",
            "Growing left at: (-220,22) -> (-221, 22)\n",
            "Growing up at: (-220,22) -> (-220, 23)\n",
            "Growing down at: (-220,22) -> (-220, 21)\n",
            "Growing left at: (-221,22) -> (-222, 22)\n",
            "Growing up at: (-221,22) -> (-221, 23)\n",
            "Growing down at: (-221,22) -> (-221, 21)\n",
            "Growing left at: (-222,22) -> (-223, 22)\n",
            "Growing up at: (-222,22) -> (-222, 23)\n",
            "Growing down at: (-222,22) -> (-222, 21)\n",
            "Growing left at: (-223,22) -> (-224, 22)\n",
            "Growing up at: (-223,22) -> (-223, 23)\n",
            "Growing down at: (-223,22) -> (-223, 21)\n",
            "Growing left at: (-224,22) -> (-225, 22)\n",
            "Growing up at: (-224,22) -> (-224, 23)\n",
            "Growing down at: (-224,22) -> (-224, 21)\n",
            "Growing left at: (-225,22) -> (-226, 22)\n",
            "Growing up at: (-225,22) -> (-225, 23)\n",
            "Growing down at: (-225,22) -> (-225, 21)\n",
            "Growing left at: (-226,22) -> (-227, 22)\n",
            "Growing up at: (-226,22) -> (-226, 23)\n",
            "Growing down at: (-226,22) -> (-226, 21)\n",
            "Growing left at: (-227,22) -> (-228, 22)\n",
            "Growing up at: (-227,22) -> (-227, 23)\n",
            "Growing down at: (-227,22) -> (-227, 21)\n"
          ]
        }
      ]
    },
    {
      "cell_type": "code",
      "metadata": {
        "colab": {
          "base_uri": "https://localhost:8080/"
        },
        "id": "ctvBH1gpU3jm",
        "outputId": "ccac0271-f048-4d0b-bd47-fe90ab38ec7e"
      },
      "source": [
        "import pandas as pd\n",
        "df = pd.read_csv('gsom.csv')\n",
        "print(df.shape)\n",
        "df.columns"
      ],
      "execution_count": 25,
      "outputs": [
        {
          "output_type": "stream",
          "name": "stdout",
          "text": [
            "(11046, 4)\n"
          ]
        },
        {
          "output_type": "execute_result",
          "data": {
            "text/plain": [
              "Index(['data', '10', '10.1', 'change'], dtype='object')"
            ]
          },
          "metadata": {},
          "execution_count": 25
        }
      ]
    },
    {
      "cell_type": "code",
      "metadata": {
        "id": "IPG9DgBtU3jn"
      },
      "source": [
        "x3 = df['10']\n",
        "y3 = df['10']"
      ],
      "execution_count": 27,
      "outputs": []
    },
    {
      "cell_type": "code",
      "metadata": {
        "colab": {
          "base_uri": "https://localhost:8080/",
          "height": 282
        },
        "id": "1sWNQKX4U3jn",
        "outputId": "25ebd15f-c91b-4fc0-8065-132bb6789f11"
      },
      "source": [
        "irisverticosa_x = x3\n",
        "irisverticosa_y = y3\n",
        "plt.plot(irisverticosa_x, irisverticosa_y)"
      ],
      "execution_count": 29,
      "outputs": [
        {
          "output_type": "execute_result",
          "data": {
            "text/plain": [
              "[<matplotlib.lines.Line2D at 0x7f8140b1e690>]"
            ]
          },
          "metadata": {},
          "execution_count": 29
        },
        {
          "output_type": "display_data",
          "data": {
            "image/png": "[encoded data removed]",
            "text/plain": [
              "<Figure size 432x288 with 1 Axes>"
            ]
          },
          "metadata": {
            "needs_background": "light"
          }
        }
      ]
    },
    {
      "cell_type": "code",
      "metadata": {
        "colab": {
          "base_uri": "https://localhost:8080/"
        },
        "id": "ke8CphZqU3jn",
        "outputId": "6b14137e-0f80-4f36-ca9e-a5b278077c7b"
      },
      "source": [
        "input = random.choice(data)[1]\n",
        "learn_rate = init_lr * alpha * (1 - 3.8/len(nodes))\n",
        "\n",
        "recalc_nodes = []\n",
        "for _ in range(50):\n",
        " \n",
        "    l0 = [i[0] for i in input]\n",
        "    l1 = [i[1] for i in input]\n",
        "    l2 = [i[2] for i in input]\n",
        "    l3 = [i[3] for i in input]\n",
        "    #print(l0)\n",
        "    l0 = l3[100:150]\n",
        "    BMU = _find_bmu(l0)\n",
        "    BMU.last_it = it\n",
        "\n",
        "    neighbours = []\n",
        "    neighbours.append(BMU)\n",
        "    if BMU.left:  neighbours.append(BMU.left)\n",
        "    if BMU.right: neighbours.append(BMU.right)\n",
        "    if BMU.up:    neighbours.append(BMU.up)\n",
        "    if BMU.down:  neighbours.append(BMU.down)\n",
        "\n",
        "    if BMU not in recalc_nodes: recalc_nodes.append(BMU)\n",
        "    for node in neighbours:\n",
        "        node.adjust_weights(l0, learn_rate)\n",
        "        if node not in recalc_nodes: recalc_nodes.append(node)\n",
        "\n",
        "    err = _distance(BMU.weights, l0)\n",
        "\n",
        "    growing, nodes = _node_add_error(BMU, err)\n",
        "    if growing: recalc_nodes.extend(nodes)\n",
        "\n",
        "    it += 1\n",
        "    used_data = []\n",
        "    for node in nodes:\n",
        "        used_data.append(node.data)\n",
        "    for node in recalc_nodes:\n",
        "        dist = float(\"inf\")\n",
        "        winner = False\n",
        "        winner_fn = False\n",
        "        for fn,point in data:\n",
        "            if fn in used_data: continue\n",
        "\n",
        "            point0 = [i[3] for i in point]\n",
        "            d = _distance(point0[100:150], node.weights)\n",
        "            if(d < dist):\n",
        "                dist = d\n",
        "                winner = point0\n",
        "                winner_fn = fn\n",
        "\n",
        "        if node.data != winner_fn:\n",
        "            node.data = winner_fn\n",
        "            node.last_changed = it\n",
        "        output.write(str(node.data) + \",\" + str(node.x) + \",\" + str(node.y)\\\n",
        "                + \",change\\n\")\n",
        "        used_data.append(winner_fn)\n",
        "    _remove_unused_nodes()\n",
        "    "
      ],
      "execution_count": 32,
      "outputs": [
        {
          "output_type": "stream",
          "name": "stderr",
          "text": [
            "/usr/local/lib/python3.7/dist-packages/ipykernel_launcher.py:13: DeprecationWarning: scipy.array is deprecated and will be removed in SciPy 2.0.0, use numpy.array instead\n",
            "  del sys.path[0]\n"
          ]
        },
        {
          "output_type": "stream",
          "name": "stdout",
          "text": [
            "Growing left at: (-228,22) -> (-229, 22)\n",
            "Growing up at: (-228,22) -> (-228, 23)\n",
            "Growing down at: (-228,22) -> (-228, 21)\n",
            "Growing left at: (-229,22) -> (-230, 22)\n",
            "Growing up at: (-229,22) -> (-229, 23)\n",
            "Growing down at: (-229,22) -> (-229, 21)\n",
            "Growing left at: (-230,22) -> (-231, 22)\n",
            "Growing up at: (-230,22) -> (-230, 23)\n",
            "Growing down at: (-230,22) -> (-230, 21)\n",
            "Growing left at: (-231,22) -> (-232, 22)\n",
            "Growing up at: (-231,22) -> (-231, 23)\n",
            "Growing down at: (-231,22) -> (-231, 21)\n",
            "Growing left at: (-232,22) -> (-233, 22)\n",
            "Growing up at: (-232,22) -> (-232, 23)\n",
            "Growing down at: (-232,22) -> (-232, 21)\n",
            "Growing left at: (-233,22) -> (-234, 22)\n",
            "Growing up at: (-233,22) -> (-233, 23)\n",
            "Growing down at: (-233,22) -> (-233, 21)\n",
            "Growing left at: (-234,22) -> (-235, 22)\n",
            "Growing up at: (-234,22) -> (-234, 23)\n",
            "Growing down at: (-234,22) -> (-234, 21)\n",
            "Growing left at: (-235,22) -> (-236, 22)\n",
            "Growing up at: (-235,22) -> (-235, 23)\n",
            "Growing down at: (-235,22) -> (-235, 21)\n",
            "Growing left at: (-236,22) -> (-237, 22)\n",
            "Growing up at: (-236,22) -> (-236, 23)\n",
            "Growing down at: (-236,22) -> (-236, 21)\n",
            "Growing left at: (-237,22) -> (-238, 22)\n",
            "Growing up at: (-237,22) -> (-237, 23)\n",
            "Growing down at: (-237,22) -> (-237, 21)\n",
            "Growing left at: (-238,22) -> (-239, 22)\n",
            "Growing up at: (-238,22) -> (-238, 23)\n",
            "Growing down at: (-238,22) -> (-238, 21)\n",
            "Growing left at: (-239,22) -> (-240, 22)\n",
            "Growing up at: (-239,22) -> (-239, 23)\n",
            "Growing down at: (-239,22) -> (-239, 21)\n",
            "Growing left at: (-240,22) -> (-241, 22)\n",
            "Growing up at: (-240,22) -> (-240, 23)\n",
            "Growing down at: (-240,22) -> (-240, 21)\n",
            "Growing left at: (-241,22) -> (-242, 22)\n",
            "Growing up at: (-241,22) -> (-241, 23)\n",
            "Growing down at: (-241,22) -> (-241, 21)\n",
            "Growing left at: (-242,22) -> (-243, 22)\n",
            "Growing up at: (-242,22) -> (-242, 23)\n",
            "Growing down at: (-242,22) -> (-242, 21)\n",
            "Growing left at: (-243,22) -> (-244, 22)\n",
            "Growing up at: (-243,22) -> (-243, 23)\n",
            "Growing down at: (-243,22) -> (-243, 21)\n",
            "Growing left at: (-244,22) -> (-245, 22)\n",
            "Growing up at: (-244,22) -> (-244, 23)\n",
            "Growing down at: (-244,22) -> (-244, 21)\n",
            "Growing left at: (-245,22) -> (-246, 22)\n",
            "Growing up at: (-245,22) -> (-245, 23)\n",
            "Growing down at: (-245,22) -> (-245, 21)\n",
            "Growing left at: (-246,22) -> (-247, 22)\n",
            "Growing up at: (-246,22) -> (-246, 23)\n",
            "Growing down at: (-246,22) -> (-246, 21)\n",
            "Growing left at: (-247,22) -> (-248, 22)\n",
            "Growing up at: (-247,22) -> (-247, 23)\n",
            "Growing down at: (-247,22) -> (-247, 21)\n",
            "Growing left at: (-248,22) -> (-249, 22)\n",
            "Growing up at: (-248,22) -> (-248, 23)\n",
            "Growing down at: (-248,22) -> (-248, 21)\n",
            "Growing left at: (-249,22) -> (-250, 22)\n",
            "Growing up at: (-249,22) -> (-249, 23)\n",
            "Growing down at: (-249,22) -> (-249, 21)\n",
            "Growing left at: (-250,22) -> (-251, 22)\n",
            "Growing up at: (-250,22) -> (-250, 23)\n",
            "Growing down at: (-250,22) -> (-250, 21)\n",
            "Growing left at: (-251,22) -> (-252, 22)\n",
            "Growing up at: (-251,22) -> (-251, 23)\n",
            "Growing down at: (-251,22) -> (-251, 21)\n",
            "Growing left at: (-252,22) -> (-253, 22)\n",
            "Growing up at: (-252,22) -> (-252, 23)\n",
            "Growing down at: (-252,22) -> (-252, 21)\n",
            "Growing left at: (-253,22) -> (-254, 22)\n",
            "Growing up at: (-253,22) -> (-253, 23)\n",
            "Growing down at: (-253,22) -> (-253, 21)\n",
            "Growing left at: (-254,22) -> (-255, 22)\n",
            "Growing up at: (-254,22) -> (-254, 23)\n",
            "Growing down at: (-254,22) -> (-254, 21)\n",
            "Growing left at: (-255,22) -> (-256, 22)\n",
            "Growing up at: (-255,22) -> (-255, 23)\n",
            "Growing down at: (-255,22) -> (-255, 21)\n",
            "Growing left at: (-256,22) -> (-257, 22)\n",
            "Growing up at: (-256,22) -> (-256, 23)\n",
            "Growing down at: (-256,22) -> (-256, 21)\n",
            "Growing left at: (-257,22) -> (-258, 22)\n",
            "Growing up at: (-257,22) -> (-257, 23)\n",
            "Growing down at: (-257,22) -> (-257, 21)\n",
            "Growing left at: (-258,22) -> (-259, 22)\n",
            "Growing up at: (-258,22) -> (-258, 23)\n",
            "Growing down at: (-258,22) -> (-258, 21)\n",
            "Growing left at: (-259,22) -> (-260, 22)\n",
            "Growing up at: (-259,22) -> (-259, 23)\n",
            "Growing down at: (-259,22) -> (-259, 21)\n",
            "Growing left at: (-260,22) -> (-261, 22)\n",
            "Growing up at: (-260,22) -> (-260, 23)\n",
            "Growing down at: (-260,22) -> (-260, 21)\n",
            "Growing left at: (-261,22) -> (-262, 22)\n",
            "Growing up at: (-261,22) -> (-261, 23)\n",
            "Growing down at: (-261,22) -> (-261, 21)\n",
            "Growing left at: (-262,22) -> (-263, 22)\n",
            "Growing up at: (-262,22) -> (-262, 23)\n",
            "Growing down at: (-262,22) -> (-262, 21)\n",
            "Growing left at: (-263,22) -> (-264, 22)\n",
            "Growing up at: (-263,22) -> (-263, 23)\n",
            "Growing down at: (-263,22) -> (-263, 21)\n",
            "Growing left at: (-264,22) -> (-265, 22)\n",
            "Growing up at: (-264,22) -> (-264, 23)\n",
            "Growing down at: (-264,22) -> (-264, 21)\n",
            "Growing left at: (-265,22) -> (-266, 22)\n",
            "Growing up at: (-265,22) -> (-265, 23)\n",
            "Growing down at: (-265,22) -> (-265, 21)\n",
            "Growing left at: (-266,22) -> (-267, 22)\n",
            "Growing up at: (-266,22) -> (-266, 23)\n",
            "Growing down at: (-266,22) -> (-266, 21)\n",
            "Growing left at: (-267,22) -> (-268, 22)\n",
            "Growing up at: (-267,22) -> (-267, 23)\n",
            "Growing down at: (-267,22) -> (-267, 21)\n",
            "Growing left at: (-268,22) -> (-269, 22)\n",
            "Growing up at: (-268,22) -> (-268, 23)\n",
            "Growing down at: (-268,22) -> (-268, 21)\n",
            "Growing left at: (-269,22) -> (-270, 22)\n",
            "Growing up at: (-269,22) -> (-269, 23)\n",
            "Growing down at: (-269,22) -> (-269, 21)\n",
            "Growing left at: (-270,22) -> (-271, 22)\n",
            "Growing up at: (-270,22) -> (-270, 23)\n",
            "Growing down at: (-270,22) -> (-270, 21)\n",
            "Growing left at: (-271,22) -> (-272, 22)\n",
            "Growing up at: (-271,22) -> (-271, 23)\n",
            "Growing down at: (-271,22) -> (-271, 21)\n",
            "Growing left at: (-272,22) -> (-273, 22)\n",
            "Growing up at: (-272,22) -> (-272, 23)\n",
            "Growing down at: (-272,22) -> (-272, 21)\n",
            "Growing left at: (-273,22) -> (-274, 22)\n",
            "Growing up at: (-273,22) -> (-273, 23)\n",
            "Growing down at: (-273,22) -> (-273, 21)\n",
            "Growing left at: (-274,22) -> (-275, 22)\n",
            "Growing up at: (-274,22) -> (-274, 23)\n",
            "Growing down at: (-274,22) -> (-274, 21)\n",
            "Growing left at: (-275,22) -> (-276, 22)\n",
            "Growing up at: (-275,22) -> (-275, 23)\n",
            "Growing down at: (-275,22) -> (-275, 21)\n",
            "Growing left at: (-276,22) -> (-277, 22)\n",
            "Growing up at: (-276,22) -> (-276, 23)\n",
            "Growing down at: (-276,22) -> (-276, 21)\n",
            "Growing left at: (-277,22) -> (-278, 22)\n",
            "Growing up at: (-277,22) -> (-277, 23)\n",
            "Growing down at: (-277,22) -> (-277, 21)\n"
          ]
        }
      ]
    },
    {
      "cell_type": "code",
      "metadata": {
        "colab": {
          "base_uri": "https://localhost:8080/"
        },
        "id": "sNJaKgDDU3jo",
        "outputId": "4f56b277-cfb7-4c13-9b8a-ae5de00fdc17"
      },
      "source": [
        "import pandas as pd\n",
        "df = pd.read_csv('gsom.csv')\n",
        "print(df.shape)\n",
        "df.columns"
      ],
      "execution_count": 33,
      "outputs": [
        {
          "output_type": "stream",
          "name": "stdout",
          "text": [
            "(22597, 4)\n"
          ]
        },
        {
          "output_type": "execute_result",
          "data": {
            "text/plain": [
              "Index(['data', '10', '10.1', 'change'], dtype='object')"
            ]
          },
          "metadata": {},
          "execution_count": 33
        }
      ]
    },
    {
      "cell_type": "code",
      "metadata": {
        "id": "AhkJCtCIU3jo"
      },
      "source": [
        "x3 = df['10']\n",
        "y3 = df['10.1']"
      ],
      "execution_count": 43,
      "outputs": []
    },
    {
      "cell_type": "code",
      "metadata": {
        "colab": {
          "base_uri": "https://localhost:8080/",
          "height": 282
        },
        "id": "6jR5POF-U3jo",
        "outputId": "58f25cfe-8fa2-4ff8-f8d6-c32194db9f02"
      },
      "source": [
        "irisvirginica_x = x3\n",
        "irisvirginica_y = y3\n",
        "plt.plot(irisvirginica_x,irisvirginica_y)"
      ],
      "execution_count": 38,
      "outputs": [
        {
          "output_type": "execute_result",
          "data": {
            "text/plain": [
              "[<matplotlib.lines.Line2D at 0x7f8140a13dd0>]"
            ]
          },
          "metadata": {},
          "execution_count": 38
        },
        {
          "output_type": "display_data",
          "data": {
            "image/png": "[encoded data removed]",
            "text/plain": [
              "<Figure size 432x288 with 1 Axes>"
            ]
          },
          "metadata": {
            "needs_background": "light"
          }
        }
      ]
    },
    {
      "cell_type": "code",
      "metadata": {
        "id": "HxnbTgMMU3jo"
      },
      "source": [
        "%matplotlib inline"
      ],
      "execution_count": 44,
      "outputs": []
    },
    {
      "cell_type": "code",
      "metadata": {
        "colab": {
          "base_uri": "https://localhost:8080/",
          "height": 271
        },
        "id": "WUm6oe5GU3jp",
        "outputId": "830e00aa-41b0-4c04-848f-f4c38fa46ebe"
      },
      "source": [
        "plt.plot(irissetosa_x, irissetosa_y, label='irissetosa')\n",
        "plt.plot(irisverticosa_x, irisverticosa_y, label='irisversicolour')\n",
        "plt.plot(irisvirginica_x, irisvirginica_y, label='irisvirginica')\n",
        "#plt.plot(x4,y4, label='petal width')\n",
        "\n",
        "\n",
        "plt.legend(('irissetosa', 'irisversicolour', 'irisvirginica'))#, 'petal width'))\n",
        "plt.legend(loc='upper center', bbox_to_anchor=(1.50, 1.05),\n",
        "          ncol=3, fancybox=True, shadow=True)\n",
        "plt.show()"
      ],
      "execution_count": 45,
      "outputs": [
        {
          "output_type": "display_data",
          "data": {
            "image/png": "[encoded data removed]",
            "text/plain": [
              "<Figure size 432x288 with 1 Axes>"
            ]
          },
          "metadata": {
            "needs_background": "light"
          }
        }
      ]
    },
    {
      "cell_type": "code",
      "metadata": {
        "colab": {
          "base_uri": "https://localhost:8080/",
          "height": 605
        },
        "id": "s4odUGP3U3jq",
        "outputId": "0fc9c878-8ee7-49ab-e5ad-aa2eeb386b18"
      },
      "source": [
        "import numpy as np\n",
        "import matplotlib.pyplot as plt\n",
        "from matplotlib.animation import FuncAnimation\n",
        "\n",
        "\n",
        "fig = plt.figure()\n",
        "plt.ylim(-50, 50)\n",
        "plt.xlim(-50, 50)\n",
        "graph1, = plt.plot([], [], 'o')\n",
        "graph2, = plt.plot([], [], '-')\n",
        "graph3, = plt.plot([], [], '>')\n",
        "graph4, = plt.plot([], [], '|')\n",
        "\n",
        "\n",
        "\n",
        "def animate3(i):\n",
        "    graph3.set_data(x3[:i+1], y3[:i+1])\n",
        "    return graph3\n",
        "\n",
        "def animate4(i):\n",
        "    graph4.set_data(x4[:i+1], y4[:i+1])\n",
        "    return graph4\n",
        "\n",
        "ani3 = FuncAnimation(fig, animate3(200000))\n",
        "ani4 = FuncAnimation(fig, animate4(200000))\n",
        "\n",
        "plt.show()"
      ],
      "execution_count": 47,
      "outputs": [
        {
          "output_type": "stream",
          "name": "stderr",
          "text": [
            "Traceback (most recent call last):\n",
            "  File \"/usr/local/lib/python3.7/dist-packages/matplotlib/cbook/__init__.py\", line 196, in process\n",
            "    func(*args, **kwargs)\n",
            "  File \"/usr/local/lib/python3.7/dist-packages/matplotlib/animation.py\", line 951, in _start\n",
            "    self._init_draw()\n",
            "  File \"/usr/local/lib/python3.7/dist-packages/matplotlib/animation.py\", line 1743, in _init_draw\n",
            "    self._draw_frame(next(self.new_frame_seq()))\n",
            "  File \"/usr/local/lib/python3.7/dist-packages/matplotlib/animation.py\", line 1766, in _draw_frame\n",
            "    self._drawn_artists = self._func(framedata, *self._args)\n",
            "TypeError: 'Line2D' object is not callable\n",
            "Traceback (most recent call last):\n",
            "  File \"/usr/local/lib/python3.7/dist-packages/matplotlib/cbook/__init__.py\", line 196, in process\n",
            "    func(*args, **kwargs)\n",
            "  File \"/usr/local/lib/python3.7/dist-packages/matplotlib/animation.py\", line 951, in _start\n",
            "    self._init_draw()\n",
            "  File \"/usr/local/lib/python3.7/dist-packages/matplotlib/animation.py\", line 1743, in _init_draw\n",
            "    self._draw_frame(next(self.new_frame_seq()))\n",
            "  File \"/usr/local/lib/python3.7/dist-packages/matplotlib/animation.py\", line 1766, in _draw_frame\n",
            "    self._drawn_artists = self._func(framedata, *self._args)\n",
            "TypeError: 'Line2D' object is not callable\n"
          ]
        },
        {
          "output_type": "display_data",
          "data": {
            "image/png": "[encoded data removed]",
            "text/plain": [
              "<Figure size 432x288 with 1 Axes>"
            ]
          },
          "metadata": {
            "needs_background": "light"
          }
        }
      ]
    },
    {
      "cell_type": "code",
      "metadata": {
        "colab": {
          "base_uri": "https://localhost:8080/",
          "height": 359
        },
        "id": "Ny2c2lPDU3jr",
        "outputId": "cb28f773-7083-4993-ea8f-01e1af5fe6bc"
      },
      "source": [
        "df.head(10) # first 10 records"
      ],
      "execution_count": 48,
      "outputs": [
        {
          "output_type": "execute_result",
          "data": {
            "text/html": [
              "<div>\n",
              "<style scoped>\n",
              "    .dataframe tbody tr th:only-of-type {\n",
              "        vertical-align: middle;\n",
              "    }\n",
              "\n",
              "    .dataframe tbody tr th {\n",
              "        vertical-align: top;\n",
              "    }\n",
              "\n",
              "    .dataframe thead th {\n",
              "        text-align: right;\n",
              "    }\n",
              "</style>\n",
              "<table border=\"1\" class=\"dataframe\">\n",
              "  <thead>\n",
              "    <tr style=\"text-align: right;\">\n",
              "      <th></th>\n",
              "      <th>data</th>\n",
              "      <th>10</th>\n",
              "      <th>10.1</th>\n",
              "      <th>change</th>\n",
              "    </tr>\n",
              "  </thead>\n",
              "  <tbody>\n",
              "    <tr>\n",
              "      <th>0</th>\n",
              "      <td>target</td>\n",
              "      <td>11</td>\n",
              "      <td>10</td>\n",
              "      <td>change</td>\n",
              "    </tr>\n",
              "    <tr>\n",
              "      <th>1</th>\n",
              "      <td>frame</td>\n",
              "      <td>10</td>\n",
              "      <td>11</td>\n",
              "      <td>change</td>\n",
              "    </tr>\n",
              "    <tr>\n",
              "      <th>2</th>\n",
              "      <td>target_names</td>\n",
              "      <td>9</td>\n",
              "      <td>10</td>\n",
              "      <td>change</td>\n",
              "    </tr>\n",
              "    <tr>\n",
              "      <th>3</th>\n",
              "      <td>DESCR</td>\n",
              "      <td>10</td>\n",
              "      <td>9</td>\n",
              "      <td>change</td>\n",
              "    </tr>\n",
              "    <tr>\n",
              "      <th>4</th>\n",
              "      <td>data</td>\n",
              "      <td>10</td>\n",
              "      <td>10</td>\n",
              "      <td>change</td>\n",
              "    </tr>\n",
              "    <tr>\n",
              "      <th>5</th>\n",
              "      <td>target</td>\n",
              "      <td>11</td>\n",
              "      <td>10</td>\n",
              "      <td>change</td>\n",
              "    </tr>\n",
              "    <tr>\n",
              "      <th>6</th>\n",
              "      <td>frame</td>\n",
              "      <td>10</td>\n",
              "      <td>11</td>\n",
              "      <td>change</td>\n",
              "    </tr>\n",
              "    <tr>\n",
              "      <th>7</th>\n",
              "      <td>target_names</td>\n",
              "      <td>9</td>\n",
              "      <td>10</td>\n",
              "      <td>change</td>\n",
              "    </tr>\n",
              "    <tr>\n",
              "      <th>8</th>\n",
              "      <td>DESCR</td>\n",
              "      <td>10</td>\n",
              "      <td>9</td>\n",
              "      <td>change</td>\n",
              "    </tr>\n",
              "    <tr>\n",
              "      <th>9</th>\n",
              "      <td>feature_names</td>\n",
              "      <td>8</td>\n",
              "      <td>10</td>\n",
              "      <td>change</td>\n",
              "    </tr>\n",
              "  </tbody>\n",
              "</table>\n",
              "</div>"
            ],
            "text/plain": [
              "            data  10  10.1  change\n",
              "0         target  11    10  change\n",
              "1          frame  10    11  change\n",
              "2   target_names   9    10  change\n",
              "3          DESCR  10     9  change\n",
              "4           data  10    10  change\n",
              "5         target  11    10  change\n",
              "6          frame  10    11  change\n",
              "7   target_names   9    10  change\n",
              "8          DESCR  10     9  change\n",
              "9  feature_names   8    10  change"
            ]
          },
          "metadata": {},
          "execution_count": 48
        }
      ]
    },
    {
      "cell_type": "code",
      "metadata": {
        "colab": {
          "base_uri": "https://localhost:8080/",
          "height": 419
        },
        "id": "uHNNKVR3U3js",
        "outputId": "4ef4d523-aff2-4145-f81e-9b6a98b2c0f4"
      },
      "source": [
        "df.head(-20)"
      ],
      "execution_count": 49,
      "outputs": [
        {
          "output_type": "execute_result",
          "data": {
            "text/html": [
              "<div>\n",
              "<style scoped>\n",
              "    .dataframe tbody tr th:only-of-type {\n",
              "        vertical-align: middle;\n",
              "    }\n",
              "\n",
              "    .dataframe tbody tr th {\n",
              "        vertical-align: top;\n",
              "    }\n",
              "\n",
              "    .dataframe thead th {\n",
              "        text-align: right;\n",
              "    }\n",
              "</style>\n",
              "<table border=\"1\" class=\"dataframe\">\n",
              "  <thead>\n",
              "    <tr style=\"text-align: right;\">\n",
              "      <th></th>\n",
              "      <th>data</th>\n",
              "      <th>10</th>\n",
              "      <th>10.1</th>\n",
              "      <th>change</th>\n",
              "    </tr>\n",
              "  </thead>\n",
              "  <tbody>\n",
              "    <tr>\n",
              "      <th>0</th>\n",
              "      <td>target</td>\n",
              "      <td>11</td>\n",
              "      <td>10</td>\n",
              "      <td>change</td>\n",
              "    </tr>\n",
              "    <tr>\n",
              "      <th>1</th>\n",
              "      <td>frame</td>\n",
              "      <td>10</td>\n",
              "      <td>11</td>\n",
              "      <td>change</td>\n",
              "    </tr>\n",
              "    <tr>\n",
              "      <th>2</th>\n",
              "      <td>target_names</td>\n",
              "      <td>9</td>\n",
              "      <td>10</td>\n",
              "      <td>change</td>\n",
              "    </tr>\n",
              "    <tr>\n",
              "      <th>3</th>\n",
              "      <td>DESCR</td>\n",
              "      <td>10</td>\n",
              "      <td>9</td>\n",
              "      <td>change</td>\n",
              "    </tr>\n",
              "    <tr>\n",
              "      <th>4</th>\n",
              "      <td>data</td>\n",
              "      <td>10</td>\n",
              "      <td>10</td>\n",
              "      <td>change</td>\n",
              "    </tr>\n",
              "    <tr>\n",
              "      <th>...</th>\n",
              "      <td>...</td>\n",
              "      <td>...</td>\n",
              "      <td>...</td>\n",
              "      <td>...</td>\n",
              "    </tr>\n",
              "    <tr>\n",
              "      <th>22572</th>\n",
              "      <td>False</td>\n",
              "      <td>-246</td>\n",
              "      <td>21</td>\n",
              "      <td>change</td>\n",
              "    </tr>\n",
              "    <tr>\n",
              "      <th>22573</th>\n",
              "      <td>False</td>\n",
              "      <td>-248</td>\n",
              "      <td>22</td>\n",
              "      <td>change</td>\n",
              "    </tr>\n",
              "    <tr>\n",
              "      <th>22574</th>\n",
              "      <td>False</td>\n",
              "      <td>-247</td>\n",
              "      <td>23</td>\n",
              "      <td>change</td>\n",
              "    </tr>\n",
              "    <tr>\n",
              "      <th>22575</th>\n",
              "      <td>False</td>\n",
              "      <td>-247</td>\n",
              "      <td>21</td>\n",
              "      <td>change</td>\n",
              "    </tr>\n",
              "    <tr>\n",
              "      <th>22576</th>\n",
              "      <td>False</td>\n",
              "      <td>-249</td>\n",
              "      <td>22</td>\n",
              "      <td>change</td>\n",
              "    </tr>\n",
              "  </tbody>\n",
              "</table>\n",
              "<p>22577 rows × 4 columns</p>\n",
              "</div>"
            ],
            "text/plain": [
              "               data   10  10.1  change\n",
              "0            target   11    10  change\n",
              "1             frame   10    11  change\n",
              "2      target_names    9    10  change\n",
              "3             DESCR   10     9  change\n",
              "4              data   10    10  change\n",
              "...             ...  ...   ...     ...\n",
              "22572         False -246    21  change\n",
              "22573         False -248    22  change\n",
              "22574         False -247    23  change\n",
              "22575         False -247    21  change\n",
              "22576         False -249    22  change\n",
              "\n",
              "[22577 rows x 4 columns]"
            ]
          },
          "metadata": {},
          "execution_count": 49
        }
      ]
    },
    {
      "cell_type": "code",
      "metadata": {
        "colab": {
          "base_uri": "https://localhost:8080/"
        },
        "id": "UMoMA_I0U3jv",
        "outputId": "e007c92b-e446-4eaa-cc09-12bcc4939a57"
      },
      "source": [
        "i = 0\n",
        "for _ in range(20):\n",
        "    l0 = [i[0] for i in input]\n",
        "    print(l0)\n",
        "    BMU = _find_bmu(l0)"
      ],
      "execution_count": 50,
      "outputs": [
        {
          "output_type": "stream",
          "name": "stdout",
          "text": [
            "[5.1, 4.9, 4.7, 4.6, 5.0, 5.4, 4.6, 5.0, 4.4, 4.9, 5.4, 4.8, 4.8, 4.3, 5.8, 5.7, 5.4, 5.1, 5.7, 5.1, 5.4, 5.1, 4.6, 5.1, 4.8, 5.0, 5.0, 5.2, 5.2, 4.7, 4.8, 5.4, 5.2, 5.5, 4.9, 5.0, 5.5, 4.9, 4.4, 5.1, 5.0, 4.5, 4.4, 5.0, 5.1, 4.8, 5.1, 4.6, 5.3, 5.0, 7.0, 6.4, 6.9, 5.5, 6.5, 5.7, 6.3, 4.9, 6.6, 5.2, 5.0, 5.9, 6.0, 6.1, 5.6, 6.7, 5.6, 5.8, 6.2, 5.6, 5.9, 6.1, 6.3, 6.1, 6.4, 6.6, 6.8, 6.7, 6.0, 5.7, 5.5, 5.5, 5.8, 6.0, 5.4, 6.0, 6.7, 6.3, 5.6, 5.5, 5.5, 6.1, 5.8, 5.0, 5.6, 5.7, 5.7, 6.2, 5.1, 5.7, 6.3, 5.8, 7.1, 6.3, 6.5, 7.6, 4.9, 7.3, 6.7, 7.2, 6.5, 6.4, 6.8, 5.7, 5.8, 6.4, 6.5, 7.7, 7.7, 6.0, 6.9, 5.6, 7.7, 6.3, 6.7, 7.2, 6.2, 6.1, 6.4, 7.2, 7.4, 7.9, 6.4, 6.3, 6.1, 7.7, 6.3, 6.4, 6.0, 6.9, 6.7, 6.9, 5.8, 6.8, 6.7, 6.7, 6.3, 6.5, 6.2, 5.9]\n",
            "[5.1, 4.9, 4.7, 4.6, 5.0, 5.4, 4.6, 5.0, 4.4, 4.9, 5.4, 4.8, 4.8, 4.3, 5.8, 5.7, 5.4, 5.1, 5.7, 5.1, 5.4, 5.1, 4.6, 5.1, 4.8, 5.0, 5.0, 5.2, 5.2, 4.7, 4.8, 5.4, 5.2, 5.5, 4.9, 5.0, 5.5, 4.9, 4.4, 5.1, 5.0, 4.5, 4.4, 5.0, 5.1, 4.8, 5.1, 4.6, 5.3, 5.0, 7.0, 6.4, 6.9, 5.5, 6.5, 5.7, 6.3, 4.9, 6.6, 5.2, 5.0, 5.9, 6.0, 6.1, 5.6, 6.7, 5.6, 5.8, 6.2, 5.6, 5.9, 6.1, 6.3, 6.1, 6.4, 6.6, 6.8, 6.7, 6.0, 5.7, 5.5, 5.5, 5.8, 6.0, 5.4, 6.0, 6.7, 6.3, 5.6, 5.5, 5.5, 6.1, 5.8, 5.0, 5.6, 5.7, 5.7, 6.2, 5.1, 5.7, 6.3, 5.8, 7.1, 6.3, 6.5, 7.6, 4.9, 7.3, 6.7, 7.2, 6.5, 6.4, 6.8, 5.7, 5.8, 6.4, 6.5, 7.7, 7.7, 6.0, 6.9, 5.6, 7.7, 6.3, 6.7, 7.2, 6.2, 6.1, 6.4, 7.2, 7.4, 7.9, 6.4, 6.3, 6.1, 7.7, 6.3, 6.4, 6.0, 6.9, 6.7, 6.9, 5.8, 6.8, 6.7, 6.7, 6.3, 6.5, 6.2, 5.9]\n",
            "[5.1, 4.9, 4.7, 4.6, 5.0, 5.4, 4.6, 5.0, 4.4, 4.9, 5.4, 4.8, 4.8, 4.3, 5.8, 5.7, 5.4, 5.1, 5.7, 5.1, 5.4, 5.1, 4.6, 5.1, 4.8, 5.0, 5.0, 5.2, 5.2, 4.7, 4.8, 5.4, 5.2, 5.5, 4.9, 5.0, 5.5, 4.9, 4.4, 5.1, 5.0, 4.5, 4.4, 5.0, 5.1, 4.8, 5.1, 4.6, 5.3, 5.0, 7.0, 6.4, 6.9, 5.5, 6.5, 5.7, 6.3, 4.9, 6.6, 5.2, 5.0, 5.9, 6.0, 6.1, 5.6, 6.7, 5.6, 5.8, 6.2, 5.6, 5.9, 6.1, 6.3, 6.1, 6.4, 6.6, 6.8, 6.7, 6.0, 5.7, 5.5, 5.5, 5.8, 6.0, 5.4, 6.0, 6.7, 6.3, 5.6, 5.5, 5.5, 6.1, 5.8, 5.0, 5.6, 5.7, 5.7, 6.2, 5.1, 5.7, 6.3, 5.8, 7.1, 6.3, 6.5, 7.6, 4.9, 7.3, 6.7, 7.2, 6.5, 6.4, 6.8, 5.7, 5.8, 6.4, 6.5, 7.7, 7.7, 6.0, 6.9, 5.6, 7.7, 6.3, 6.7, 7.2, 6.2, 6.1, 6.4, 7.2, 7.4, 7.9, 6.4, 6.3, 6.1, 7.7, 6.3, 6.4, 6.0, 6.9, 6.7, 6.9, 5.8, 6.8, 6.7, 6.7, 6.3, 6.5, 6.2, 5.9]\n",
            "[5.1, 4.9, 4.7, 4.6, 5.0, 5.4, 4.6, 5.0, 4.4, 4.9, 5.4, 4.8, 4.8, 4.3, 5.8, 5.7, 5.4, 5.1, 5.7, 5.1, 5.4, 5.1, 4.6, 5.1, 4.8, 5.0, 5.0, 5.2, 5.2, 4.7, 4.8, 5.4, 5.2, 5.5, 4.9, 5.0, 5.5, 4.9, 4.4, 5.1, 5.0, 4.5, 4.4, 5.0, 5.1, 4.8, 5.1, 4.6, 5.3, 5.0, 7.0, 6.4, 6.9, 5.5, 6.5, 5.7, 6.3, 4.9, 6.6, 5.2, 5.0, 5.9, 6.0, 6.1, 5.6, 6.7, 5.6, 5.8, 6.2, 5.6, 5.9, 6.1, 6.3, 6.1, 6.4, 6.6, 6.8, 6.7, 6.0, 5.7, 5.5, 5.5, 5.8, 6.0, 5.4, 6.0, 6.7, 6.3, 5.6, 5.5, 5.5, 6.1, 5.8, 5.0, 5.6, 5.7, 5.7, 6.2, 5.1, 5.7, 6.3, 5.8, 7.1, 6.3, 6.5, 7.6, 4.9, 7.3, 6.7, 7.2, 6.5, 6.4, 6.8, 5.7, 5.8, 6.4, 6.5, 7.7, 7.7, 6.0, 6.9, 5.6, 7.7, 6.3, 6.7, 7.2, 6.2, 6.1, 6.4, 7.2, 7.4, 7.9, 6.4, 6.3, 6.1, 7.7, 6.3, 6.4, 6.0, 6.9, 6.7, 6.9, 5.8, 6.8, 6.7, 6.7, 6.3, 6.5, 6.2, 5.9]\n",
            "[5.1, 4.9, 4.7, 4.6, 5.0, 5.4, 4.6, 5.0, 4.4, 4.9, 5.4, 4.8, 4.8, 4.3, 5.8, 5.7, 5.4, 5.1, 5.7, 5.1, 5.4, 5.1, 4.6, 5.1, 4.8, 5.0, 5.0, 5.2, 5.2, 4.7, 4.8, 5.4, 5.2, 5.5, 4.9, 5.0, 5.5, 4.9, 4.4, 5.1, 5.0, 4.5, 4.4, 5.0, 5.1, 4.8, 5.1, 4.6, 5.3, 5.0, 7.0, 6.4, 6.9, 5.5, 6.5, 5.7, 6.3, 4.9, 6.6, 5.2, 5.0, 5.9, 6.0, 6.1, 5.6, 6.7, 5.6, 5.8, 6.2, 5.6, 5.9, 6.1, 6.3, 6.1, 6.4, 6.6, 6.8, 6.7, 6.0, 5.7, 5.5, 5.5, 5.8, 6.0, 5.4, 6.0, 6.7, 6.3, 5.6, 5.5, 5.5, 6.1, 5.8, 5.0, 5.6, 5.7, 5.7, 6.2, 5.1, 5.7, 6.3, 5.8, 7.1, 6.3, 6.5, 7.6, 4.9, 7.3, 6.7, 7.2, 6.5, 6.4, 6.8, 5.7, 5.8, 6.4, 6.5, 7.7, 7.7, 6.0, 6.9, 5.6, 7.7, 6.3, 6.7, 7.2, 6.2, 6.1, 6.4, 7.2, 7.4, 7.9, 6.4, 6.3, 6.1, 7.7, 6.3, 6.4, 6.0, 6.9, 6.7, 6.9, 5.8, 6.8, 6.7, 6.7, 6.3, 6.5, 6.2, 5.9]\n",
            "[5.1, 4.9, 4.7, 4.6, 5.0, 5.4, 4.6, 5.0, 4.4, 4.9, 5.4, 4.8, 4.8, 4.3, 5.8, 5.7, 5.4, 5.1, 5.7, 5.1, 5.4, 5.1, 4.6, 5.1, 4.8, 5.0, 5.0, 5.2, 5.2, 4.7, 4.8, 5.4, 5.2, 5.5, 4.9, 5.0, 5.5, 4.9, 4.4, 5.1, 5.0, 4.5, 4.4, 5.0, 5.1, 4.8, 5.1, 4.6, 5.3, 5.0, 7.0, 6.4, 6.9, 5.5, 6.5, 5.7, 6.3, 4.9, 6.6, 5.2, 5.0, 5.9, 6.0, 6.1, 5.6, 6.7, 5.6, 5.8, 6.2, 5.6, 5.9, 6.1, 6.3, 6.1, 6.4, 6.6, 6.8, 6.7, 6.0, 5.7, 5.5, 5.5, 5.8, 6.0, 5.4, 6.0, 6.7, 6.3, 5.6, 5.5, 5.5, 6.1, 5.8, 5.0, 5.6, 5.7, 5.7, 6.2, 5.1, 5.7, 6.3, 5.8, 7.1, 6.3, 6.5, 7.6, 4.9, 7.3, 6.7, 7.2, 6.5, 6.4, 6.8, 5.7, 5.8, 6.4, 6.5, 7.7, 7.7, 6.0, 6.9, 5.6, 7.7, 6.3, 6.7, 7.2, 6.2, 6.1, 6.4, 7.2, 7.4, 7.9, 6.4, 6.3, 6.1, 7.7, 6.3, 6.4, 6.0, 6.9, 6.7, 6.9, 5.8, 6.8, 6.7, 6.7, 6.3, 6.5, 6.2, 5.9]\n",
            "[5.1, 4.9, 4.7, 4.6, 5.0, 5.4, 4.6, 5.0, 4.4, 4.9, 5.4, 4.8, 4.8, 4.3, 5.8, 5.7, 5.4, 5.1, 5.7, 5.1, 5.4, 5.1, 4.6, 5.1, 4.8, 5.0, 5.0, 5.2, 5.2, 4.7, 4.8, 5.4, 5.2, 5.5, 4.9, 5.0, 5.5, 4.9, 4.4, 5.1, 5.0, 4.5, 4.4, 5.0, 5.1, 4.8, 5.1, 4.6, 5.3, 5.0, 7.0, 6.4, 6.9, 5.5, 6.5, 5.7, 6.3, 4.9, 6.6, 5.2, 5.0, 5.9, 6.0, 6.1, 5.6, 6.7, 5.6, 5.8, 6.2, 5.6, 5.9, 6.1, 6.3, 6.1, 6.4, 6.6, 6.8, 6.7, 6.0, 5.7, 5.5, 5.5, 5.8, 6.0, 5.4, 6.0, 6.7, 6.3, 5.6, 5.5, 5.5, 6.1, 5.8, 5.0, 5.6, 5.7, 5.7, 6.2, 5.1, 5.7, 6.3, 5.8, 7.1, 6.3, 6.5, 7.6, 4.9, 7.3, 6.7, 7.2, 6.5, 6.4, 6.8, 5.7, 5.8, 6.4, 6.5, 7.7, 7.7, 6.0, 6.9, 5.6, 7.7, 6.3, 6.7, 7.2, 6.2, 6.1, 6.4, 7.2, 7.4, 7.9, 6.4, 6.3, 6.1, 7.7, 6.3, 6.4, 6.0, 6.9, 6.7, 6.9, 5.8, 6.8, 6.7, 6.7, 6.3, 6.5, 6.2, 5.9]\n",
            "[5.1, 4.9, 4.7, 4.6, 5.0, 5.4, 4.6, 5.0, 4.4, 4.9, 5.4, 4.8, 4.8, 4.3, 5.8, 5.7, 5.4, 5.1, 5.7, 5.1, 5.4, 5.1, 4.6, 5.1, 4.8, 5.0, 5.0, 5.2, 5.2, 4.7, 4.8, 5.4, 5.2, 5.5, 4.9, 5.0, 5.5, 4.9, 4.4, 5.1, 5.0, 4.5, 4.4, 5.0, 5.1, 4.8, 5.1, 4.6, 5.3, 5.0, 7.0, 6.4, 6.9, 5.5, 6.5, 5.7, 6.3, 4.9, 6.6, 5.2, 5.0, 5.9, 6.0, 6.1, 5.6, 6.7, 5.6, 5.8, 6.2, 5.6, 5.9, 6.1, 6.3, 6.1, 6.4, 6.6, 6.8, 6.7, 6.0, 5.7, 5.5, 5.5, 5.8, 6.0, 5.4, 6.0, 6.7, 6.3, 5.6, 5.5, 5.5, 6.1, 5.8, 5.0, 5.6, 5.7, 5.7, 6.2, 5.1, 5.7, 6.3, 5.8, 7.1, 6.3, 6.5, 7.6, 4.9, 7.3, 6.7, 7.2, 6.5, 6.4, 6.8, 5.7, 5.8, 6.4, 6.5, 7.7, 7.7, 6.0, 6.9, 5.6, 7.7, 6.3, 6.7, 7.2, 6.2, 6.1, 6.4, 7.2, 7.4, 7.9, 6.4, 6.3, 6.1, 7.7, 6.3, 6.4, 6.0, 6.9, 6.7, 6.9, 5.8, 6.8, 6.7, 6.7, 6.3, 6.5, 6.2, 5.9]\n",
            "[5.1, 4.9, 4.7, 4.6, 5.0, 5.4, 4.6, 5.0, 4.4, 4.9, 5.4, 4.8, 4.8, 4.3, 5.8, 5.7, 5.4, 5.1, 5.7, 5.1, 5.4, 5.1, 4.6, 5.1, 4.8, 5.0, 5.0, 5.2, 5.2, 4.7, 4.8, 5.4, 5.2, 5.5, 4.9, 5.0, 5.5, 4.9, 4.4, 5.1, 5.0, 4.5, 4.4, 5.0, 5.1, 4.8, 5.1, 4.6, 5.3, 5.0, 7.0, 6.4, 6.9, 5.5, 6.5, 5.7, 6.3, 4.9, 6.6, 5.2, 5.0, 5.9, 6.0, 6.1, 5.6, 6.7, 5.6, 5.8, 6.2, 5.6, 5.9, 6.1, 6.3, 6.1, 6.4, 6.6, 6.8, 6.7, 6.0, 5.7, 5.5, 5.5, 5.8, 6.0, 5.4, 6.0, 6.7, 6.3, 5.6, 5.5, 5.5, 6.1, 5.8, 5.0, 5.6, 5.7, 5.7, 6.2, 5.1, 5.7, 6.3, 5.8, 7.1, 6.3, 6.5, 7.6, 4.9, 7.3, 6.7, 7.2, 6.5, 6.4, 6.8, 5.7, 5.8, 6.4, 6.5, 7.7, 7.7, 6.0, 6.9, 5.6, 7.7, 6.3, 6.7, 7.2, 6.2, 6.1, 6.4, 7.2, 7.4, 7.9, 6.4, 6.3, 6.1, 7.7, 6.3, 6.4, 6.0, 6.9, 6.7, 6.9, 5.8, 6.8, 6.7, 6.7, 6.3, 6.5, 6.2, 5.9]\n",
            "[5.1, 4.9, 4.7, 4.6, 5.0, 5.4, 4.6, 5.0, 4.4, 4.9, 5.4, 4.8, 4.8, 4.3, 5.8, 5.7, 5.4, 5.1, 5.7, 5.1, 5.4, 5.1, 4.6, 5.1, 4.8, 5.0, 5.0, 5.2, 5.2, 4.7, 4.8, 5.4, 5.2, 5.5, 4.9, 5.0, 5.5, 4.9, 4.4, 5.1, 5.0, 4.5, 4.4, 5.0, 5.1, 4.8, 5.1, 4.6, 5.3, 5.0, 7.0, 6.4, 6.9, 5.5, 6.5, 5.7, 6.3, 4.9, 6.6, 5.2, 5.0, 5.9, 6.0, 6.1, 5.6, 6.7, 5.6, 5.8, 6.2, 5.6, 5.9, 6.1, 6.3, 6.1, 6.4, 6.6, 6.8, 6.7, 6.0, 5.7, 5.5, 5.5, 5.8, 6.0, 5.4, 6.0, 6.7, 6.3, 5.6, 5.5, 5.5, 6.1, 5.8, 5.0, 5.6, 5.7, 5.7, 6.2, 5.1, 5.7, 6.3, 5.8, 7.1, 6.3, 6.5, 7.6, 4.9, 7.3, 6.7, 7.2, 6.5, 6.4, 6.8, 5.7, 5.8, 6.4, 6.5, 7.7, 7.7, 6.0, 6.9, 5.6, 7.7, 6.3, 6.7, 7.2, 6.2, 6.1, 6.4, 7.2, 7.4, 7.9, 6.4, 6.3, 6.1, 7.7, 6.3, 6.4, 6.0, 6.9, 6.7, 6.9, 5.8, 6.8, 6.7, 6.7, 6.3, 6.5, 6.2, 5.9]\n",
            "[5.1, 4.9, 4.7, 4.6, 5.0, 5.4, 4.6, 5.0, 4.4, 4.9, 5.4, 4.8, 4.8, 4.3, 5.8, 5.7, 5.4, 5.1, 5.7, 5.1, 5.4, 5.1, 4.6, 5.1, 4.8, 5.0, 5.0, 5.2, 5.2, 4.7, 4.8, 5.4, 5.2, 5.5, 4.9, 5.0, 5.5, 4.9, 4.4, 5.1, 5.0, 4.5, 4.4, 5.0, 5.1, 4.8, 5.1, 4.6, 5.3, 5.0, 7.0, 6.4, 6.9, 5.5, 6.5, 5.7, 6.3, 4.9, 6.6, 5.2, 5.0, 5.9, 6.0, 6.1, 5.6, 6.7, 5.6, 5.8, 6.2, 5.6, 5.9, 6.1, 6.3, 6.1, 6.4, 6.6, 6.8, 6.7, 6.0, 5.7, 5.5, 5.5, 5.8, 6.0, 5.4, 6.0, 6.7, 6.3, 5.6, 5.5, 5.5, 6.1, 5.8, 5.0, 5.6, 5.7, 5.7, 6.2, 5.1, 5.7, 6.3, 5.8, 7.1, 6.3, 6.5, 7.6, 4.9, 7.3, 6.7, 7.2, 6.5, 6.4, 6.8, 5.7, 5.8, 6.4, 6.5, 7.7, 7.7, 6.0, 6.9, 5.6, 7.7, 6.3, 6.7, 7.2, 6.2, 6.1, 6.4, 7.2, 7.4, 7.9, 6.4, 6.3, 6.1, 7.7, 6.3, 6.4, 6.0, 6.9, 6.7, 6.9, 5.8, 6.8, 6.7, 6.7, 6.3, 6.5, 6.2, 5.9]\n",
            "[5.1, 4.9, 4.7, 4.6, 5.0, 5.4, 4.6, 5.0, 4.4, 4.9, 5.4, 4.8, 4.8, 4.3, 5.8, 5.7, 5.4, 5.1, 5.7, 5.1, 5.4, 5.1, 4.6, 5.1, 4.8, 5.0, 5.0, 5.2, 5.2, 4.7, 4.8, 5.4, 5.2, 5.5, 4.9, 5.0, 5.5, 4.9, 4.4, 5.1, 5.0, 4.5, 4.4, 5.0, 5.1, 4.8, 5.1, 4.6, 5.3, 5.0, 7.0, 6.4, 6.9, 5.5, 6.5, 5.7, 6.3, 4.9, 6.6, 5.2, 5.0, 5.9, 6.0, 6.1, 5.6, 6.7, 5.6, 5.8, 6.2, 5.6, 5.9, 6.1, 6.3, 6.1, 6.4, 6.6, 6.8, 6.7, 6.0, 5.7, 5.5, 5.5, 5.8, 6.0, 5.4, 6.0, 6.7, 6.3, 5.6, 5.5, 5.5, 6.1, 5.8, 5.0, 5.6, 5.7, 5.7, 6.2, 5.1, 5.7, 6.3, 5.8, 7.1, 6.3, 6.5, 7.6, 4.9, 7.3, 6.7, 7.2, 6.5, 6.4, 6.8, 5.7, 5.8, 6.4, 6.5, 7.7, 7.7, 6.0, 6.9, 5.6, 7.7, 6.3, 6.7, 7.2, 6.2, 6.1, 6.4, 7.2, 7.4, 7.9, 6.4, 6.3, 6.1, 7.7, 6.3, 6.4, 6.0, 6.9, 6.7, 6.9, 5.8, 6.8, 6.7, 6.7, 6.3, 6.5, 6.2, 5.9]\n",
            "[5.1, 4.9, 4.7, 4.6, 5.0, 5.4, 4.6, 5.0, 4.4, 4.9, 5.4, 4.8, 4.8, 4.3, 5.8, 5.7, 5.4, 5.1, 5.7, 5.1, 5.4, 5.1, 4.6, 5.1, 4.8, 5.0, 5.0, 5.2, 5.2, 4.7, 4.8, 5.4, 5.2, 5.5, 4.9, 5.0, 5.5, 4.9, 4.4, 5.1, 5.0, 4.5, 4.4, 5.0, 5.1, 4.8, 5.1, 4.6, 5.3, 5.0, 7.0, 6.4, 6.9, 5.5, 6.5, 5.7, 6.3, 4.9, 6.6, 5.2, 5.0, 5.9, 6.0, 6.1, 5.6, 6.7, 5.6, 5.8, 6.2, 5.6, 5.9, 6.1, 6.3, 6.1, 6.4, 6.6, 6.8, 6.7, 6.0, 5.7, 5.5, 5.5, 5.8, 6.0, 5.4, 6.0, 6.7, 6.3, 5.6, 5.5, 5.5, 6.1, 5.8, 5.0, 5.6, 5.7, 5.7, 6.2, 5.1, 5.7, 6.3, 5.8, 7.1, 6.3, 6.5, 7.6, 4.9, 7.3, 6.7, 7.2, 6.5, 6.4, 6.8, 5.7, 5.8, 6.4, 6.5, 7.7, 7.7, 6.0, 6.9, 5.6, 7.7, 6.3, 6.7, 7.2, 6.2, 6.1, 6.4, 7.2, 7.4, 7.9, 6.4, 6.3, 6.1, 7.7, 6.3, 6.4, 6.0, 6.9, 6.7, 6.9, 5.8, 6.8, 6.7, 6.7, 6.3, 6.5, 6.2, 5.9]\n",
            "[5.1, 4.9, 4.7, 4.6, 5.0, 5.4, 4.6, 5.0, 4.4, 4.9, 5.4, 4.8, 4.8, 4.3, 5.8, 5.7, 5.4, 5.1, 5.7, 5.1, 5.4, 5.1, 4.6, 5.1, 4.8, 5.0, 5.0, 5.2, 5.2, 4.7, 4.8, 5.4, 5.2, 5.5, 4.9, 5.0, 5.5, 4.9, 4.4, 5.1, 5.0, 4.5, 4.4, 5.0, 5.1, 4.8, 5.1, 4.6, 5.3, 5.0, 7.0, 6.4, 6.9, 5.5, 6.5, 5.7, 6.3, 4.9, 6.6, 5.2, 5.0, 5.9, 6.0, 6.1, 5.6, 6.7, 5.6, 5.8, 6.2, 5.6, 5.9, 6.1, 6.3, 6.1, 6.4, 6.6, 6.8, 6.7, 6.0, 5.7, 5.5, 5.5, 5.8, 6.0, 5.4, 6.0, 6.7, 6.3, 5.6, 5.5, 5.5, 6.1, 5.8, 5.0, 5.6, 5.7, 5.7, 6.2, 5.1, 5.7, 6.3, 5.8, 7.1, 6.3, 6.5, 7.6, 4.9, 7.3, 6.7, 7.2, 6.5, 6.4, 6.8, 5.7, 5.8, 6.4, 6.5, 7.7, 7.7, 6.0, 6.9, 5.6, 7.7, 6.3, 6.7, 7.2, 6.2, 6.1, 6.4, 7.2, 7.4, 7.9, 6.4, 6.3, 6.1, 7.7, 6.3, 6.4, 6.0, 6.9, 6.7, 6.9, 5.8, 6.8, 6.7, 6.7, 6.3, 6.5, 6.2, 5.9]\n",
            "[5.1, 4.9, 4.7, 4.6, 5.0, 5.4, 4.6, 5.0, 4.4, 4.9, 5.4, 4.8, 4.8, 4.3, 5.8, 5.7, 5.4, 5.1, 5.7, 5.1, 5.4, 5.1, 4.6, 5.1, 4.8, 5.0, 5.0, 5.2, 5.2, 4.7, 4.8, 5.4, 5.2, 5.5, 4.9, 5.0, 5.5, 4.9, 4.4, 5.1, 5.0, 4.5, 4.4, 5.0, 5.1, 4.8, 5.1, 4.6, 5.3, 5.0, 7.0, 6.4, 6.9, 5.5, 6.5, 5.7, 6.3, 4.9, 6.6, 5.2, 5.0, 5.9, 6.0, 6.1, 5.6, 6.7, 5.6, 5.8, 6.2, 5.6, 5.9, 6.1, 6.3, 6.1, 6.4, 6.6, 6.8, 6.7, 6.0, 5.7, 5.5, 5.5, 5.8, 6.0, 5.4, 6.0, 6.7, 6.3, 5.6, 5.5, 5.5, 6.1, 5.8, 5.0, 5.6, 5.7, 5.7, 6.2, 5.1, 5.7, 6.3, 5.8, 7.1, 6.3, 6.5, 7.6, 4.9, 7.3, 6.7, 7.2, 6.5, 6.4, 6.8, 5.7, 5.8, 6.4, 6.5, 7.7, 7.7, 6.0, 6.9, 5.6, 7.7, 6.3, 6.7, 7.2, 6.2, 6.1, 6.4, 7.2, 7.4, 7.9, 6.4, 6.3, 6.1, 7.7, 6.3, 6.4, 6.0, 6.9, 6.7, 6.9, 5.8, 6.8, 6.7, 6.7, 6.3, 6.5, 6.2, 5.9]\n",
            "[5.1, 4.9, 4.7, 4.6, 5.0, 5.4, 4.6, 5.0, 4.4, 4.9, 5.4, 4.8, 4.8, 4.3, 5.8, 5.7, 5.4, 5.1, 5.7, 5.1, 5.4, 5.1, 4.6, 5.1, 4.8, 5.0, 5.0, 5.2, 5.2, 4.7, 4.8, 5.4, 5.2, 5.5, 4.9, 5.0, 5.5, 4.9, 4.4, 5.1, 5.0, 4.5, 4.4, 5.0, 5.1, 4.8, 5.1, 4.6, 5.3, 5.0, 7.0, 6.4, 6.9, 5.5, 6.5, 5.7, 6.3, 4.9, 6.6, 5.2, 5.0, 5.9, 6.0, 6.1, 5.6, 6.7, 5.6, 5.8, 6.2, 5.6, 5.9, 6.1, 6.3, 6.1, 6.4, 6.6, 6.8, 6.7, 6.0, 5.7, 5.5, 5.5, 5.8, 6.0, 5.4, 6.0, 6.7, 6.3, 5.6, 5.5, 5.5, 6.1, 5.8, 5.0, 5.6, 5.7, 5.7, 6.2, 5.1, 5.7, 6.3, 5.8, 7.1, 6.3, 6.5, 7.6, 4.9, 7.3, 6.7, 7.2, 6.5, 6.4, 6.8, 5.7, 5.8, 6.4, 6.5, 7.7, 7.7, 6.0, 6.9, 5.6, 7.7, 6.3, 6.7, 7.2, 6.2, 6.1, 6.4, 7.2, 7.4, 7.9, 6.4, 6.3, 6.1, 7.7, 6.3, 6.4, 6.0, 6.9, 6.7, 6.9, 5.8, 6.8, 6.7, 6.7, 6.3, 6.5, 6.2, 5.9]\n",
            "[5.1, 4.9, 4.7, 4.6, 5.0, 5.4, 4.6, 5.0, 4.4, 4.9, 5.4, 4.8, 4.8, 4.3, 5.8, 5.7, 5.4, 5.1, 5.7, 5.1, 5.4, 5.1, 4.6, 5.1, 4.8, 5.0, 5.0, 5.2, 5.2, 4.7, 4.8, 5.4, 5.2, 5.5, 4.9, 5.0, 5.5, 4.9, 4.4, 5.1, 5.0, 4.5, 4.4, 5.0, 5.1, 4.8, 5.1, 4.6, 5.3, 5.0, 7.0, 6.4, 6.9, 5.5, 6.5, 5.7, 6.3, 4.9, 6.6, 5.2, 5.0, 5.9, 6.0, 6.1, 5.6, 6.7, 5.6, 5.8, 6.2, 5.6, 5.9, 6.1, 6.3, 6.1, 6.4, 6.6, 6.8, 6.7, 6.0, 5.7, 5.5, 5.5, 5.8, 6.0, 5.4, 6.0, 6.7, 6.3, 5.6, 5.5, 5.5, 6.1, 5.8, 5.0, 5.6, 5.7, 5.7, 6.2, 5.1, 5.7, 6.3, 5.8, 7.1, 6.3, 6.5, 7.6, 4.9, 7.3, 6.7, 7.2, 6.5, 6.4, 6.8, 5.7, 5.8, 6.4, 6.5, 7.7, 7.7, 6.0, 6.9, 5.6, 7.7, 6.3, 6.7, 7.2, 6.2, 6.1, 6.4, 7.2, 7.4, 7.9, 6.4, 6.3, 6.1, 7.7, 6.3, 6.4, 6.0, 6.9, 6.7, 6.9, 5.8, 6.8, 6.7, 6.7, 6.3, 6.5, 6.2, 5.9]\n",
            "[5.1, 4.9, 4.7, 4.6, 5.0, 5.4, 4.6, 5.0, 4.4, 4.9, 5.4, 4.8, 4.8, 4.3, 5.8, 5.7, 5.4, 5.1, 5.7, 5.1, 5.4, 5.1, 4.6, 5.1, 4.8, 5.0, 5.0, 5.2, 5.2, 4.7, 4.8, 5.4, 5.2, 5.5, 4.9, 5.0, 5.5, 4.9, 4.4, 5.1, 5.0, 4.5, 4.4, 5.0, 5.1, 4.8, 5.1, 4.6, 5.3, 5.0, 7.0, 6.4, 6.9, 5.5, 6.5, 5.7, 6.3, 4.9, 6.6, 5.2, 5.0, 5.9, 6.0, 6.1, 5.6, 6.7, 5.6, 5.8, 6.2, 5.6, 5.9, 6.1, 6.3, 6.1, 6.4, 6.6, 6.8, 6.7, 6.0, 5.7, 5.5, 5.5, 5.8, 6.0, 5.4, 6.0, 6.7, 6.3, 5.6, 5.5, 5.5, 6.1, 5.8, 5.0, 5.6, 5.7, 5.7, 6.2, 5.1, 5.7, 6.3, 5.8, 7.1, 6.3, 6.5, 7.6, 4.9, 7.3, 6.7, 7.2, 6.5, 6.4, 6.8, 5.7, 5.8, 6.4, 6.5, 7.7, 7.7, 6.0, 6.9, 5.6, 7.7, 6.3, 6.7, 7.2, 6.2, 6.1, 6.4, 7.2, 7.4, 7.9, 6.4, 6.3, 6.1, 7.7, 6.3, 6.4, 6.0, 6.9, 6.7, 6.9, 5.8, 6.8, 6.7, 6.7, 6.3, 6.5, 6.2, 5.9]\n",
            "[5.1, 4.9, 4.7, 4.6, 5.0, 5.4, 4.6, 5.0, 4.4, 4.9, 5.4, 4.8, 4.8, 4.3, 5.8, 5.7, 5.4, 5.1, 5.7, 5.1, 5.4, 5.1, 4.6, 5.1, 4.8, 5.0, 5.0, 5.2, 5.2, 4.7, 4.8, 5.4, 5.2, 5.5, 4.9, 5.0, 5.5, 4.9, 4.4, 5.1, 5.0, 4.5, 4.4, 5.0, 5.1, 4.8, 5.1, 4.6, 5.3, 5.0, 7.0, 6.4, 6.9, 5.5, 6.5, 5.7, 6.3, 4.9, 6.6, 5.2, 5.0, 5.9, 6.0, 6.1, 5.6, 6.7, 5.6, 5.8, 6.2, 5.6, 5.9, 6.1, 6.3, 6.1, 6.4, 6.6, 6.8, 6.7, 6.0, 5.7, 5.5, 5.5, 5.8, 6.0, 5.4, 6.0, 6.7, 6.3, 5.6, 5.5, 5.5, 6.1, 5.8, 5.0, 5.6, 5.7, 5.7, 6.2, 5.1, 5.7, 6.3, 5.8, 7.1, 6.3, 6.5, 7.6, 4.9, 7.3, 6.7, 7.2, 6.5, 6.4, 6.8, 5.7, 5.8, 6.4, 6.5, 7.7, 7.7, 6.0, 6.9, 5.6, 7.7, 6.3, 6.7, 7.2, 6.2, 6.1, 6.4, 7.2, 7.4, 7.9, 6.4, 6.3, 6.1, 7.7, 6.3, 6.4, 6.0, 6.9, 6.7, 6.9, 5.8, 6.8, 6.7, 6.7, 6.3, 6.5, 6.2, 5.9]\n",
            "[5.1, 4.9, 4.7, 4.6, 5.0, 5.4, 4.6, 5.0, 4.4, 4.9, 5.4, 4.8, 4.8, 4.3, 5.8, 5.7, 5.4, 5.1, 5.7, 5.1, 5.4, 5.1, 4.6, 5.1, 4.8, 5.0, 5.0, 5.2, 5.2, 4.7, 4.8, 5.4, 5.2, 5.5, 4.9, 5.0, 5.5, 4.9, 4.4, 5.1, 5.0, 4.5, 4.4, 5.0, 5.1, 4.8, 5.1, 4.6, 5.3, 5.0, 7.0, 6.4, 6.9, 5.5, 6.5, 5.7, 6.3, 4.9, 6.6, 5.2, 5.0, 5.9, 6.0, 6.1, 5.6, 6.7, 5.6, 5.8, 6.2, 5.6, 5.9, 6.1, 6.3, 6.1, 6.4, 6.6, 6.8, 6.7, 6.0, 5.7, 5.5, 5.5, 5.8, 6.0, 5.4, 6.0, 6.7, 6.3, 5.6, 5.5, 5.5, 6.1, 5.8, 5.0, 5.6, 5.7, 5.7, 6.2, 5.1, 5.7, 6.3, 5.8, 7.1, 6.3, 6.5, 7.6, 4.9, 7.3, 6.7, 7.2, 6.5, 6.4, 6.8, 5.7, 5.8, 6.4, 6.5, 7.7, 7.7, 6.0, 6.9, 5.6, 7.7, 6.3, 6.7, 7.2, 6.2, 6.1, 6.4, 7.2, 7.4, 7.9, 6.4, 6.3, 6.1, 7.7, 6.3, 6.4, 6.0, 6.9, 6.7, 6.9, 5.8, 6.8, 6.7, 6.7, 6.3, 6.5, 6.2, 5.9]\n"
          ]
        }
      ]
    },
    {
      "cell_type": "code",
      "metadata": {
        "colab": {
          "base_uri": "https://localhost:8080/"
        },
        "id": "i36eS26WU3jw",
        "outputId": "fbf855a4-b97e-466d-c994-0ce0daa076d6"
      },
      "source": [
        "    l0 = [i[0] for i in input]\n",
        "    print(l0)\n",
        "    BMU = _find_bmu(l0)\n",
        "    print(BMU)"
      ],
      "execution_count": 51,
      "outputs": [
        {
          "output_type": "stream",
          "name": "stdout",
          "text": [
            "[5.1, 4.9, 4.7, 4.6, 5.0, 5.4, 4.6, 5.0, 4.4, 4.9, 5.4, 4.8, 4.8, 4.3, 5.8, 5.7, 5.4, 5.1, 5.7, 5.1, 5.4, 5.1, 4.6, 5.1, 4.8, 5.0, 5.0, 5.2, 5.2, 4.7, 4.8, 5.4, 5.2, 5.5, 4.9, 5.0, 5.5, 4.9, 4.4, 5.1, 5.0, 4.5, 4.4, 5.0, 5.1, 4.8, 5.1, 4.6, 5.3, 5.0, 7.0, 6.4, 6.9, 5.5, 6.5, 5.7, 6.3, 4.9, 6.6, 5.2, 5.0, 5.9, 6.0, 6.1, 5.6, 6.7, 5.6, 5.8, 6.2, 5.6, 5.9, 6.1, 6.3, 6.1, 6.4, 6.6, 6.8, 6.7, 6.0, 5.7, 5.5, 5.5, 5.8, 6.0, 5.4, 6.0, 6.7, 6.3, 5.6, 5.5, 5.5, 6.1, 5.8, 5.0, 5.6, 5.7, 5.7, 6.2, 5.1, 5.7, 6.3, 5.8, 7.1, 6.3, 6.5, 7.6, 4.9, 7.3, 6.7, 7.2, 6.5, 6.4, 6.8, 5.7, 5.8, 6.4, 6.5, 7.7, 7.7, 6.0, 6.9, 5.6, 7.7, 6.3, 6.7, 7.2, 6.2, 6.1, 6.4, 7.2, 7.4, 7.9, 6.4, 6.3, 6.1, 7.7, 6.3, 6.4, 6.0, 6.9, 6.7, 6.9, 5.8, 6.8, 6.7, 6.7, 6.3, 6.5, 6.2, 5.9]\n",
            "<__main__.GSOM_Node object at 0x7f8140a6a650>\n"
          ]
        }
      ]
    },
    {
      "cell_type": "code",
      "metadata": {
        "id": "AyMOhwH6U3jw"
      },
      "source": [
        "for fn,point in data:\n",
        "    if fn in used_data: continue\n",
        "    print(node.weights)"
      ],
      "execution_count": 52,
      "outputs": []
    },
    {
      "cell_type": "code",
      "metadata": {
        "id": "-udMMoSFU3jw"
      },
      "source": [
        "# sepal length sepal width petal length petal width\n",
        "# Iris-Setosa - Iris-Versicolour - Iris-Virginica"
      ],
      "execution_count": 53,
      "outputs": []
    },
    {
      "cell_type": "code",
      "metadata": {
        "colab": {
          "base_uri": "https://localhost:8080/"
        },
        "id": "dBxcRfbUU3jw",
        "outputId": "5327b626-3211-45d8-a966-a8f0632c6731"
      },
      "source": [
        "dataset"
      ],
      "execution_count": 54,
      "outputs": [
        {
          "output_type": "execute_result",
          "data": {
            "text/plain": [
              "{'DESCR': '.. _iris_dataset:\\n\\nIris plants dataset\\n--------------------\\n\\n**Data Set Characteristics:**\\n\\n    :Number of Instances: 150 (50 in each of three classes)\\n    :Number of Attributes: 4 numeric, predictive attributes and the class\\n    :Attribute Information:\\n        - sepal length in cm\\n        - sepal width in cm\\n        - petal length in cm\\n        - petal width in cm\\n        - class:\\n                - Iris-Setosa\\n                - Iris-Versicolour\\n                - Iris-Virginica\\n                \\n    :Summary Statistics:\\n\\n    ============== ==== ==== ======= ===== ====================\\n                    Min  Max   Mean    SD   Class Correlation\\n    ============== ==== ==== ======= ===== ====================\\n    sepal length:   4.3  7.9   5.84   0.83    0.7826\\n    sepal width:    2.0  4.4   3.05   0.43   -0.4194\\n    petal length:   1.0  6.9   3.76   1.76    0.9490  (high!)\\n    petal width:    0.1  2.5   1.20   0.76    0.9565  (high!)\\n    ============== ==== ==== ======= ===== ====================\\n\\n    :Missing Attribute Values: None\\n    :Class Distribution: 33.3% for each of 3 classes.\\n    :Creator: R.A. Fisher\\n    :Donor: Michael Marshall (MARSHALL%PLU@io.arc.nasa.gov)\\n    :Date: July, 1988\\n\\nThe famous Iris database, first used by Sir R.A. Fisher. The dataset is taken\\nfrom Fisher\\'s paper. Note that it\\'s the same as in R, but not as in the UCI\\nMachine Learning Repository, which has two wrong data points.\\n\\nThis is perhaps the best known database to be found in the\\npattern recognition literature.  Fisher\\'s paper is a classic in the field and\\nis referenced frequently to this day.  (See Duda & Hart, for example.)  The\\ndata set contains 3 classes of 50 instances each, where each class refers to a\\ntype of iris plant.  One class is linearly separable from the other 2; the\\nlatter are NOT linearly separable from each other.\\n\\n.. topic:: References\\n\\n   - Fisher, R.A. \"The use of multiple measurements in taxonomic problems\"\\n     Annual Eugenics, 7, Part II, 179-188 (1936); also in \"Contributions to\\n     Mathematical Statistics\" (John Wiley, NY, 1950).\\n   - Duda, R.O., & Hart, P.E. (1973) Pattern Classification and Scene Analysis.\\n     (Q327.D83) John Wiley & Sons.  ISBN 0-471-22361-1.  See page 218.\\n   - Dasarathy, B.V. (1980) \"Nosing Around the Neighborhood: A New System\\n     Structure and Classification Rule for Recognition in Partially Exposed\\n     Environments\".  IEEE Transactions on Pattern Analysis and Machine\\n     Intelligence, Vol. PAMI-2, No. 1, 67-71.\\n   - Gates, G.W. (1972) \"The Reduced Nearest Neighbor Rule\".  IEEE Transactions\\n     on Information Theory, May 1972, 431-433.\\n   - See also: 1988 MLC Proceedings, 54-64.  Cheeseman et al\"s AUTOCLASS II\\n     conceptual clustering system finds 3 classes in the data.\\n   - Many, many more ...',\n",
              " 'data': array([[5.1, 3.5, 1.4, 0.2],\n",
              "        [4.9, 3. , 1.4, 0.2],\n",
              "        [4.7, 3.2, 1.3, 0.2],\n",
              "        [4.6, 3.1, 1.5, 0.2],\n",
              "        [5. , 3.6, 1.4, 0.2],\n",
              "        [5.4, 3.9, 1.7, 0.4],\n",
              "        [4.6, 3.4, 1.4, 0.3],\n",
              "        [5. , 3.4, 1.5, 0.2],\n",
              "        [4.4, 2.9, 1.4, 0.2],\n",
              "        [4.9, 3.1, 1.5, 0.1],\n",
              "        [5.4, 3.7, 1.5, 0.2],\n",
              "        [4.8, 3.4, 1.6, 0.2],\n",
              "        [4.8, 3. , 1.4, 0.1],\n",
              "        [4.3, 3. , 1.1, 0.1],\n",
              "        [5.8, 4. , 1.2, 0.2],\n",
              "        [5.7, 4.4, 1.5, 0.4],\n",
              "        [5.4, 3.9, 1.3, 0.4],\n",
              "        [5.1, 3.5, 1.4, 0.3],\n",
              "        [5.7, 3.8, 1.7, 0.3],\n",
              "        [5.1, 3.8, 1.5, 0.3],\n",
              "        [5.4, 3.4, 1.7, 0.2],\n",
              "        [5.1, 3.7, 1.5, 0.4],\n",
              "        [4.6, 3.6, 1. , 0.2],\n",
              "        [5.1, 3.3, 1.7, 0.5],\n",
              "        [4.8, 3.4, 1.9, 0.2],\n",
              "        [5. , 3. , 1.6, 0.2],\n",
              "        [5. , 3.4, 1.6, 0.4],\n",
              "        [5.2, 3.5, 1.5, 0.2],\n",
              "        [5.2, 3.4, 1.4, 0.2],\n",
              "        [4.7, 3.2, 1.6, 0.2],\n",
              "        [4.8, 3.1, 1.6, 0.2],\n",
              "        [5.4, 3.4, 1.5, 0.4],\n",
              "        [5.2, 4.1, 1.5, 0.1],\n",
              "        [5.5, 4.2, 1.4, 0.2],\n",
              "        [4.9, 3.1, 1.5, 0.2],\n",
              "        [5. , 3.2, 1.2, 0.2],\n",
              "        [5.5, 3.5, 1.3, 0.2],\n",
              "        [4.9, 3.6, 1.4, 0.1],\n",
              "        [4.4, 3. , 1.3, 0.2],\n",
              "        [5.1, 3.4, 1.5, 0.2],\n",
              "        [5. , 3.5, 1.3, 0.3],\n",
              "        [4.5, 2.3, 1.3, 0.3],\n",
              "        [4.4, 3.2, 1.3, 0.2],\n",
              "        [5. , 3.5, 1.6, 0.6],\n",
              "        [5.1, 3.8, 1.9, 0.4],\n",
              "        [4.8, 3. , 1.4, 0.3],\n",
              "        [5.1, 3.8, 1.6, 0.2],\n",
              "        [4.6, 3.2, 1.4, 0.2],\n",
              "        [5.3, 3.7, 1.5, 0.2],\n",
              "        [5. , 3.3, 1.4, 0.2],\n",
              "        [7. , 3.2, 4.7, 1.4],\n",
              "        [6.4, 3.2, 4.5, 1.5],\n",
              "        [6.9, 3.1, 4.9, 1.5],\n",
              "        [5.5, 2.3, 4. , 1.3],\n",
              "        [6.5, 2.8, 4.6, 1.5],\n",
              "        [5.7, 2.8, 4.5, 1.3],\n",
              "        [6.3, 3.3, 4.7, 1.6],\n",
              "        [4.9, 2.4, 3.3, 1. ],\n",
              "        [6.6, 2.9, 4.6, 1.3],\n",
              "        [5.2, 2.7, 3.9, 1.4],\n",
              "        [5. , 2. , 3.5, 1. ],\n",
              "        [5.9, 3. , 4.2, 1.5],\n",
              "        [6. , 2.2, 4. , 1. ],\n",
              "        [6.1, 2.9, 4.7, 1.4],\n",
              "        [5.6, 2.9, 3.6, 1.3],\n",
              "        [6.7, 3.1, 4.4, 1.4],\n",
              "        [5.6, 3. , 4.5, 1.5],\n",
              "        [5.8, 2.7, 4.1, 1. ],\n",
              "        [6.2, 2.2, 4.5, 1.5],\n",
              "        [5.6, 2.5, 3.9, 1.1],\n",
              "        [5.9, 3.2, 4.8, 1.8],\n",
              "        [6.1, 2.8, 4. , 1.3],\n",
              "        [6.3, 2.5, 4.9, 1.5],\n",
              "        [6.1, 2.8, 4.7, 1.2],\n",
              "        [6.4, 2.9, 4.3, 1.3],\n",
              "        [6.6, 3. , 4.4, 1.4],\n",
              "        [6.8, 2.8, 4.8, 1.4],\n",
              "        [6.7, 3. , 5. , 1.7],\n",
              "        [6. , 2.9, 4.5, 1.5],\n",
              "        [5.7, 2.6, 3.5, 1. ],\n",
              "        [5.5, 2.4, 3.8, 1.1],\n",
              "        [5.5, 2.4, 3.7, 1. ],\n",
              "        [5.8, 2.7, 3.9, 1.2],\n",
              "        [6. , 2.7, 5.1, 1.6],\n",
              "        [5.4, 3. , 4.5, 1.5],\n",
              "        [6. , 3.4, 4.5, 1.6],\n",
              "        [6.7, 3.1, 4.7, 1.5],\n",
              "        [6.3, 2.3, 4.4, 1.3],\n",
              "        [5.6, 3. , 4.1, 1.3],\n",
              "        [5.5, 2.5, 4. , 1.3],\n",
              "        [5.5, 2.6, 4.4, 1.2],\n",
              "        [6.1, 3. , 4.6, 1.4],\n",
              "        [5.8, 2.6, 4. , 1.2],\n",
              "        [5. , 2.3, 3.3, 1. ],\n",
              "        [5.6, 2.7, 4.2, 1.3],\n",
              "        [5.7, 3. , 4.2, 1.2],\n",
              "        [5.7, 2.9, 4.2, 1.3],\n",
              "        [6.2, 2.9, 4.3, 1.3],\n",
              "        [5.1, 2.5, 3. , 1.1],\n",
              "        [5.7, 2.8, 4.1, 1.3],\n",
              "        [6.3, 3.3, 6. , 2.5],\n",
              "        [5.8, 2.7, 5.1, 1.9],\n",
              "        [7.1, 3. , 5.9, 2.1],\n",
              "        [6.3, 2.9, 5.6, 1.8],\n",
              "        [6.5, 3. , 5.8, 2.2],\n",
              "        [7.6, 3. , 6.6, 2.1],\n",
              "        [4.9, 2.5, 4.5, 1.7],\n",
              "        [7.3, 2.9, 6.3, 1.8],\n",
              "        [6.7, 2.5, 5.8, 1.8],\n",
              "        [7.2, 3.6, 6.1, 2.5],\n",
              "        [6.5, 3.2, 5.1, 2. ],\n",
              "        [6.4, 2.7, 5.3, 1.9],\n",
              "        [6.8, 3. , 5.5, 2.1],\n",
              "        [5.7, 2.5, 5. , 2. ],\n",
              "        [5.8, 2.8, 5.1, 2.4],\n",
              "        [6.4, 3.2, 5.3, 2.3],\n",
              "        [6.5, 3. , 5.5, 1.8],\n",
              "        [7.7, 3.8, 6.7, 2.2],\n",
              "        [7.7, 2.6, 6.9, 2.3],\n",
              "        [6. , 2.2, 5. , 1.5],\n",
              "        [6.9, 3.2, 5.7, 2.3],\n",
              "        [5.6, 2.8, 4.9, 2. ],\n",
              "        [7.7, 2.8, 6.7, 2. ],\n",
              "        [6.3, 2.7, 4.9, 1.8],\n",
              "        [6.7, 3.3, 5.7, 2.1],\n",
              "        [7.2, 3.2, 6. , 1.8],\n",
              "        [6.2, 2.8, 4.8, 1.8],\n",
              "        [6.1, 3. , 4.9, 1.8],\n",
              "        [6.4, 2.8, 5.6, 2.1],\n",
              "        [7.2, 3. , 5.8, 1.6],\n",
              "        [7.4, 2.8, 6.1, 1.9],\n",
              "        [7.9, 3.8, 6.4, 2. ],\n",
              "        [6.4, 2.8, 5.6, 2.2],\n",
              "        [6.3, 2.8, 5.1, 1.5],\n",
              "        [6.1, 2.6, 5.6, 1.4],\n",
              "        [7.7, 3. , 6.1, 2.3],\n",
              "        [6.3, 3.4, 5.6, 2.4],\n",
              "        [6.4, 3.1, 5.5, 1.8],\n",
              "        [6. , 3. , 4.8, 1.8],\n",
              "        [6.9, 3.1, 5.4, 2.1],\n",
              "        [6.7, 3.1, 5.6, 2.4],\n",
              "        [6.9, 3.1, 5.1, 2.3],\n",
              "        [5.8, 2.7, 5.1, 1.9],\n",
              "        [6.8, 3.2, 5.9, 2.3],\n",
              "        [6.7, 3.3, 5.7, 2.5],\n",
              "        [6.7, 3. , 5.2, 2.3],\n",
              "        [6.3, 2.5, 5. , 1.9],\n",
              "        [6.5, 3. , 5.2, 2. ],\n",
              "        [6.2, 3.4, 5.4, 2.3],\n",
              "        [5.9, 3. , 5.1, 1.8]]),\n",
              " 'data_module': 'sklearn.datasets.data',\n",
              " 'feature_names': ['sepal length (cm)',\n",
              "  'sepal width (cm)',\n",
              "  'petal length (cm)',\n",
              "  'petal width (cm)'],\n",
              " 'filename': 'iris.csv',\n",
              " 'frame': None,\n",
              " 'target': array([0, 0, 0, 0, 0, 0, 0, 0, 0, 0, 0, 0, 0, 0, 0, 0, 0, 0, 0, 0, 0, 0,\n",
              "        0, 0, 0, 0, 0, 0, 0, 0, 0, 0, 0, 0, 0, 0, 0, 0, 0, 0, 0, 0, 0, 0,\n",
              "        0, 0, 0, 0, 0, 0, 1, 1, 1, 1, 1, 1, 1, 1, 1, 1, 1, 1, 1, 1, 1, 1,\n",
              "        1, 1, 1, 1, 1, 1, 1, 1, 1, 1, 1, 1, 1, 1, 1, 1, 1, 1, 1, 1, 1, 1,\n",
              "        1, 1, 1, 1, 1, 1, 1, 1, 1, 1, 1, 1, 2, 2, 2, 2, 2, 2, 2, 2, 2, 2,\n",
              "        2, 2, 2, 2, 2, 2, 2, 2, 2, 2, 2, 2, 2, 2, 2, 2, 2, 2, 2, 2, 2, 2,\n",
              "        2, 2, 2, 2, 2, 2, 2, 2, 2, 2, 2, 2, 2, 2, 2, 2, 2, 2]),\n",
              " 'target_names': array(['setosa', 'versicolor', 'virginica'], dtype='<U10')}"
            ]
          },
          "metadata": {},
          "execution_count": 54
        }
      ]
    }
  ]
}